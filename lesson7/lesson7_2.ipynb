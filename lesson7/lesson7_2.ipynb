{
 "cells": [
  {
   "cell_type": "code",
   "execution_count": null,
   "metadata": {},
   "outputs": [
    {
     "name": "stdout",
     "output_type": "stream",
     "text": [
      "酒:白酒\n",
      "主餐:牛排\n",
      "甜點:蛋糕\n"
     ]
    }
   ],
   "source": [
    "def menu(wine:str,entree:str, dessert:str) -> None:\n",
    "    print(f\"酒:{wine}\")\n",
    "    print(f\"主餐:{entree}\")    \n",
    "    print(f\"甜點:{dessert}\")\n",
    "\n",
    "#用引數值的呼叫->會依照順序放裡面的內容\n",
    "\n",
    "menu('白酒','牛排','蛋糕')"
   ]
  },
  {
   "cell_type": "code",
   "execution_count": 3,
   "metadata": {},
   "outputs": [
    {
     "name": "stdout",
     "output_type": "stream",
     "text": [
      "酒:白酒\n",
      "主餐:牛排\n",
      "甜點:蛋糕\n",
      "=========================\n",
      "酒:白酒\n",
      "主餐:牛排\n",
      "甜點:蛋糕\n"
     ]
    }
   ],
   "source": [
    "def menu(wine:str,entree:str, dessert:str) -> None:\n",
    "    print(f\"酒:{wine}\")\n",
    "    print(f\"主餐:{entree}\")    \n",
    "    print(f\"甜點:{dessert}\")\n",
    "\n",
    "#用引數名稱的呼叫->可不依照順序放\n",
    "\n",
    "menu(wine='白酒',entree='牛排',dessert='蛋糕')\n",
    "print(\"=========================\")\n",
    "menu(entree='牛排',dessert='蛋糕',wine='白酒')\n"
   ]
  },
  {
   "cell_type": "code",
   "execution_count": 4,
   "metadata": {},
   "outputs": [
    {
     "name": "stdout",
     "output_type": "stream",
     "text": [
      "酒:白酒\n",
      "主餐:牛排\n",
      "甜點:蛋糕\n",
      "=========================\n",
      "酒:白酒\n",
      "主餐:牛排\n",
      "甜點:蛋糕\n"
     ]
    }
   ],
   "source": [
    "def menu(wine:str,entree:str, dessert:str) -> None:\n",
    "    print(f\"酒:{wine}\")\n",
    "    print(f\"主餐:{entree}\")    \n",
    "    print(f\"甜點:{dessert}\")\n",
    "\n",
    "#混合呼叫->前面使用引數值,後面使用引數名稱\n",
    "\n",
    "menu(wine='白酒',dessert='蛋糕',entree='牛排')\n",
    "print(\"=========================\")\n",
    "menu('白酒','牛排',dessert='蛋糕')\n"
   ]
  },
  {
   "cell_type": "code",
   "execution_count": 5,
   "metadata": {},
   "outputs": [
    {
     "name": "stdout",
     "output_type": "stream",
     "text": [
      "酒:白酒\n",
      "主餐:牛排\n",
      "甜點:奶昔\n",
      "=========================\n",
      "酒:白酒\n",
      "主餐:牛排\n",
      "甜點:蛋糕1\n"
     ]
    }
   ],
   "source": [
    "def menu(wine:str,entree:str, dessert:str='奶昔') -> None:\n",
    "    print(f\"酒:{wine}\")\n",
    "    print(f\"主餐:{entree}\")    \n",
    "    print(f\"甜點:{dessert}\")\n",
    "\n",
    "#function裡有default值,可以省略不打引數值\n",
    "\n",
    "menu(\"白酒\",\"牛排\")\n",
    "print(\"=========================\")\n",
    "menu('白酒','牛排',dessert='蛋糕1')"
   ]
  },
  {
   "cell_type": "code",
   "execution_count": null,
   "metadata": {},
   "outputs": [
    {
     "name": "stdout",
     "output_type": "stream",
     "text": [
      "()\n",
      "===========\n",
      "'a nn 1 2 3 bb\n",
      "===========\n"
     ]
    }
   ],
   "source": [
    "# *args *代表沒有限定數量的引數值呼叫\n",
    "def print_args(*args)->None:\n",
    "    print(args)\n",
    "\n",
    "print_args()\n",
    "#   印出()代表tubple的資料結構\n",
    "print(\"===========\")\n",
    "print(\"'a\",'nn',1,2,3,'bb')\n",
    "print(\"===========\")"
   ]
  },
  {
   "cell_type": "code",
   "execution_count": null,
   "metadata": {},
   "outputs": [
    {
     "name": "stdout",
     "output_type": "stream",
     "text": [
      "{}\n",
      "===========\n",
      "{'one': '1', 'two': '2', 'there': 'a'}\n",
      "===========\n"
     ]
    }
   ],
   "source": [
    "# **kwargs **代表沒有限定數量的引數名稱呼叫\n",
    "def print_kwargs(**kwargs)->None:\n",
    "    print(kwargs)\n",
    "\n",
    "print_kwargs()\n",
    "#   印出{}代表dictionary的資料結構\n",
    "print(\"===========\")\n",
    "print_kwargs(one='1',two='2',there='a')\n",
    "print(\"===========\")"
   ]
  },
  {
   "cell_type": "code",
   "execution_count": 9,
   "metadata": {},
   "outputs": [
    {
     "name": "stdout",
     "output_type": "stream",
     "text": [
      "()\n",
      "{}\n",
      "======================\n",
      "(1, 2, 3, 4)\n",
      "{'one': '1', 'two': '2', 'three': '3'}\n"
     ]
    }
   ],
   "source": [
    "def print_all(*args,**kwargs):\n",
    "    print(args)\n",
    "    print(kwargs)\n",
    "\n",
    "print_all()\n",
    "print(\"======================\")\n",
    "print_all(1,2,3,4,one='1',two='2',three='3')"
   ]
  },
  {
   "cell_type": "code",
   "execution_count": 10,
   "metadata": {},
   "outputs": [
    {
     "name": "stdout",
     "output_type": "stream",
     "text": [
      "===========\n",
      "\n",
      "\n",
      "\n",
      "===========\n"
     ]
    }
   ],
   "source": [
    "print(\"===========\")\n",
    "print()\n",
    "print()\n",
    "print()\n",
    "print(\"===========\")"
   ]
  },
  {
   "cell_type": "code",
   "execution_count": null,
   "metadata": {},
   "outputs": [
    {
     "name": "stdout",
     "output_type": "stream",
     "text": [
      "1 2 3 4 5\n",
      "===========\n",
      "1,2,3,4,5\n"
     ]
    }
   ],
   "source": [
    "# print(*objects, sep=' ', end='\\n', file=None, flush=False)\n",
    "print(1,2,3,4,5)\n",
    "print(\"===========\")\n",
    "print(1,2,3,4,5,sep=',')"
   ]
  }
 ],
 "metadata": {
  "kernelspec": {
   "display_name": "Python 3",
   "language": "python",
   "name": "python3"
  },
  "language_info": {
   "codemirror_mode": {
    "name": "ipython",
    "version": 3
   },
   "file_extension": ".py",
   "mimetype": "text/x-python",
   "name": "python",
   "nbconvert_exporter": "python",
   "pygments_lexer": "ipython3",
   "version": "3.10.15"
  }
 },
 "nbformat": 4,
 "nbformat_minor": 2
}
