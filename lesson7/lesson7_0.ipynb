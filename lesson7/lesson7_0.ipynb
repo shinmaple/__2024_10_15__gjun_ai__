{
 "cells": [
  {
   "cell_type": "code",
   "execution_count": 1,
   "metadata": {},
   "outputs": [
    {
     "name": "stdout",
     "output_type": "stream",
     "text": [
      "BMI的計算\n",
      "請輸入姓名:aaa\n",
      "請輸入身高(cm):189\n",
      "請輸入體重(kg):66\n",
      "aaa的BMI值:18.48\n",
      "aaa的體重:體重過輕\n",
      "您還要繼續嗎?(y繼續,n結束):y\n",
      "=========================\n",
      "BMI的計算\n",
      "請輸入姓名:BBB\n",
      "格式錯誤,請重新輸入\n",
      "=========================\n",
      "BMI的計算\n",
      "請輸入姓名:iii\n",
      "格式錯誤,請重新輸入\n",
      "=========================\n",
      "BMI的計算\n",
      "請輸入姓名:bbb\n",
      "請輸入身高(cm):177\n",
      "格式錯誤,請重新輸入\n",
      "=========================\n",
      "BMI的計算\n",
      "請輸入姓名:ccc\n",
      "請輸入身高(cm):161\n",
      "請輸入體重(kg):59\n",
      "ccc的BMI值:22.76\n",
      "ccc的體重:正常範圍\n",
      "您還要繼續嗎?(y繼續,n結束):n\n",
      "=========================\n"
     ]
    }
   ],
   "source": [
    "while(True):\n",
    "    print(\"BMI的計算\")\n",
    "    try: #判斷使用者是否有輸入錯誤\n",
    "        name = input(\"請輸入姓名:\")\n",
    "        print(f\"請輸入姓名:{name}\") #印出姓名\n",
    "        height = eval(input(\"請輸入身高(cm):\"))\n",
    "        print(f\"請輸入身高(cm):{height}\") #印出身高\n",
    "        weight = eval(input(\"請輸入體重(kg):\"))\n",
    "        print(f\"請輸入體重(kg):{weight}\") #印出體重\n",
    "    except Exception :\n",
    "        print(\"格式錯誤,請重新輸入\")\n",
    "        print(\"=========================\")\n",
    "        continue #重新跑while迴圈\n",
    "    BMI = weight / ((height/100)**2) #如果以上皆正確執行BMI判斷\n",
    "    print(f\"{name}的BMI值:{BMI:.2f}\") #印出BMI\n",
    "    if BMI >=35:\n",
    "        print(f\"{name}的體重:重度肥胖\")\n",
    "    elif BMI >= 30:\n",
    "        print(f\"{name}的體重:中度肥胖\")\n",
    "    elif BMI >= 27:\n",
    "        print(f\"{name}的體重:輕度肥胖\")\n",
    "    elif BMI >= 24:\n",
    "        print(f\"{name}的體重:過重\")\n",
    "    elif BMI >= 18.5:\n",
    "        print(f\"{name}的體重:正常範圍\")\n",
    "    else:\n",
    "        print(f\"{name}的體重:體重過輕\")  \n",
    "\n",
    "    value = input(\"您還要繼續嗎?(y繼續,n結束):\") #印出是否繼續\n",
    "    print(f\"您還要繼續嗎?(y繼續,n結束):{value}\")\n",
    "    print(\"=========================\")\n",
    "    if value.upper()=='N': #如果輸入n/N即跳出while迴圈 \n",
    "        break"
   ]
  }
 ],
 "metadata": {
  "kernelspec": {
   "display_name": "Python 3",
   "language": "python",
   "name": "python3"
  },
  "language_info": {
   "codemirror_mode": {
    "name": "ipython",
    "version": 3
   },
   "file_extension": ".py",
   "mimetype": "text/x-python",
   "name": "python",
   "nbconvert_exporter": "python",
   "pygments_lexer": "ipython3",
   "version": "3.10.15"
  }
 },
 "nbformat": 4,
 "nbformat_minor": 2
}
