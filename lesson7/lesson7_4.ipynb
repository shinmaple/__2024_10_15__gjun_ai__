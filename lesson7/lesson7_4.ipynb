{
 "cells": [
  {
   "cell_type": "code",
   "execution_count": 1,
   "metadata": {},
   "outputs": [
    {
     "data": {
      "text/plain": [
       "[45, 11, 33, 22]"
      ]
     },
     "execution_count": 1,
     "metadata": {},
     "output_type": "execute_result"
    }
   ],
   "source": [
    "#資料結構   List   []<---    索引編號index(看不到的,由0開始)    value是裡面的值\n",
    "[45,11,33,22]\n"
   ]
  },
  {
   "cell_type": "code",
   "execution_count": 14,
   "metadata": {},
   "outputs": [
    {
     "data": {
      "text/plain": [
       "[45, 11, 33, 22]"
      ]
     },
     "execution_count": 14,
     "metadata": {},
     "output_type": "execute_result"
    }
   ],
   "source": [
    "#資料結構   List   []<---    索引編號index(看不到的,由0開始)    value是裡面的值\n",
    "list1 = [45,11,33,22]\n",
    "list1"
   ]
  },
  {
   "cell_type": "code",
   "execution_count": 15,
   "metadata": {},
   "outputs": [
    {
     "data": {
      "text/plain": [
       "(45, 11, 33, 22)"
      ]
     },
     "execution_count": 15,
     "metadata": {},
     "output_type": "execute_result"
    }
   ],
   "source": [
    "#subscript\n",
    "list1[0], list1[1], list1[2], list1[3]"
   ]
  },
  {
   "cell_type": "code",
   "execution_count": 16,
   "metadata": {},
   "outputs": [
    {
     "name": "stdout",
     "output_type": "stream",
     "text": [
      "45\n",
      "11\n",
      "33\n",
      "22\n"
     ]
    }
   ],
   "source": [
    "#序列,串列,seqence\n",
    "for element in list:\n",
    "    print(element)\n"
   ]
  },
  {
   "cell_type": "code",
   "execution_count": 17,
   "metadata": {},
   "outputs": [
    {
     "name": "stdout",
     "output_type": "stream",
     "text": [
      "(0, 45)\n",
      "(1, 11)\n",
      "(2, 33)\n",
      "(3, 22)\n"
     ]
    }
   ],
   "source": [
    "#  enumerate(iterable, start=0)\n",
    "#  回傳一個列舉 (enumerate) 物件。iterable 必須是一個序列、iterator 或其他支援疊代的物件\n",
    "#  enumerate() 回傳之 iterator 的 __next__() method 回傳一個 tuple（元組），裡面包含一個計數值（從 start 開始，預設為 0）和透過疊代 iterable 獲得的值。\n",
    "\n",
    "for item in enumerate(list):\n",
    "    print(item)"
   ]
  },
  {
   "cell_type": "code",
   "execution_count": 19,
   "metadata": {},
   "outputs": [
    {
     "name": "stdout",
     "output_type": "stream",
     "text": [
      "0\n",
      "45\n",
      "=============\n",
      "1\n",
      "11\n",
      "=============\n",
      "2\n",
      "33\n",
      "=============\n",
      "3\n",
      "22\n",
      "=============\n"
     ]
    }
   ],
   "source": [
    "#  enumerate(iterable, start=0)\n",
    "#  回傳一個列舉 (enumerate) 物件。iterable 必須是一個序列、iterator 或其他支援疊代的物件\n",
    "#  enumerate() 回傳之 iterator 的 __next__() method 回傳一個 tuple（元組），裡面包含一個計數值（從 start 開始，預設為 0）和透過疊代 iterable 獲得的值。\n",
    "\n",
    "for index,value in enumerate(list1):\n",
    "    print(index)\n",
    "    print(value)\n",
    "    print(\"=============\")"
   ]
  },
  {
   "cell_type": "code",
   "execution_count": 10,
   "metadata": {},
   "outputs": [
    {
     "data": {
      "text/plain": [
       "[45, 11, 33, 22]"
      ]
     },
     "execution_count": 10,
     "metadata": {},
     "output_type": "execute_result"
    }
   ],
   "source": [
    "list2 = [45,11,33,22]\n",
    "list2"
   ]
  },
  {
   "cell_type": "code",
   "execution_count": 20,
   "metadata": {},
   "outputs": [
    {
     "data": {
      "text/plain": [
       "[45, 11, 33, 22]"
      ]
     },
     "execution_count": 20,
     "metadata": {},
     "output_type": "execute_result"
    }
   ],
   "source": [
    "list2:list = [45,11,33,22]\n",
    "list2"
   ]
  },
  {
   "cell_type": "code",
   "execution_count": 21,
   "metadata": {},
   "outputs": [],
   "source": [
    "# 實體(英文叫object或instance)：有三個功能attribute、property、method\n",
    "\n",
    "list2.insert(0,100)"
   ]
  },
  {
   "cell_type": "code",
   "execution_count": 22,
   "metadata": {},
   "outputs": [
    {
     "data": {
      "text/plain": [
       "[100, 45, 11, 33, 22]"
      ]
     },
     "execution_count": 22,
     "metadata": {},
     "output_type": "execute_result"
    }
   ],
   "source": [
    "list2"
   ]
  },
  {
   "cell_type": "code",
   "execution_count": null,
   "metadata": {},
   "outputs": [],
   "source": [
    "#insert()是list實體的方法()\n",
    "#ist.insert(i, x)將一個項目插入至 list 中給定的位置。\n",
    "#第一個引數為插入處前元素的索引值，所以 a.insert(0, x) 會插入在 list 首位，而 a.insert(len(a), x) 則相當於 a.append(x)。\n",
    "list2.insert(0,100)\n"
   ]
  },
  {
   "cell_type": "code",
   "execution_count": 24,
   "metadata": {},
   "outputs": [
    {
     "data": {
      "text/plain": [
       "[100, 100, 45, 11, 33, 22]"
      ]
     },
     "execution_count": 24,
     "metadata": {},
     "output_type": "execute_result"
    }
   ],
   "source": [
    "list2"
   ]
  },
  {
   "cell_type": "code",
   "execution_count": null,
   "metadata": {},
   "outputs": [
    {
     "data": {
      "text/plain": [
       "[100, 100, 45, 11, 33, 22, 67, 67]"
      ]
     },
     "execution_count": 26,
     "metadata": {},
     "output_type": "execute_result"
    }
   ],
   "source": [
    "#append()是list實體的方法()<--將一個新的項目加到 list 的尾端\n",
    "list2.append(67)\n",
    "list2"
   ]
  },
  {
   "cell_type": "code",
   "execution_count": 27,
   "metadata": {},
   "outputs": [
    {
     "data": {
      "text/plain": [
       "[]"
      ]
     },
     "execution_count": 27,
     "metadata": {},
     "output_type": "execute_result"
    }
   ],
   "source": [
    "# list.clear()<--刪除 list 中所有項目。\n",
    "list2.clear()\n",
    "list2"
   ]
  }
 ],
 "metadata": {
  "kernelspec": {
   "display_name": "Python 3",
   "language": "python",
   "name": "python3"
  },
  "language_info": {
   "codemirror_mode": {
    "name": "ipython",
    "version": 3
   },
   "file_extension": ".py",
   "mimetype": "text/x-python",
   "name": "python",
   "nbconvert_exporter": "python",
   "pygments_lexer": "ipython3",
   "version": "3.10.15"
  }
 },
 "nbformat": 4,
 "nbformat_minor": 2
}
