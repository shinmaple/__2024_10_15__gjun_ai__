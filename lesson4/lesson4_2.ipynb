{
 "cells": [
  {
   "cell_type": "code",
   "execution_count": 3,
   "metadata": {},
   "outputs": [
    {
     "name": "stdout",
     "output_type": "stream",
     "text": [
      "error occur\n",
      "輸入的分數為:300\n",
      "該學生可加分\n",
      "學生的分數:300\n"
     ]
    }
   ],
   "source": [
    "#學生總分最高為300\n",
    "#如果分數超過300,就以300分為準\n",
    "#有些學生可以加分5%,但若分數超過300,就以300分為準\n",
    "#第1種解決方法\n",
    "try:\n",
    "    scores = eval(input('請輸入學生分數(最高300分):'))     #input為內建function\n",
    "except:\n",
    "    print('error occur')\n",
    "print(f'輸入的分數為:{scores}')\n",
    "is_add = input('學生是否待合加分修件?(y,n)')\n",
    "if is_add == 'y':       #有兩個if判斷式為巢狀if\n",
    "    print('該學生可加分')\n",
    "    scores  *= 1.05\n",
    "    if scores > 300:\n",
    "        scores = 300\n",
    "print(f'學生的分數:{scores:.0f}')"
   ]
  },
  {
   "cell_type": "code",
   "execution_count": 5,
   "metadata": {},
   "outputs": [
    {
     "name": "stdout",
     "output_type": "stream",
     "text": [
      "error occur\n",
      "end\n"
     ]
    }
   ],
   "source": [
    "#學生總分最高為300\n",
    "#如果分數超過300,就以300分為準\n",
    "#有些學生可以加分5%,但若分數超過300,就以300分為準\n",
    "#第2種解決方法\n",
    "try:\n",
    "    scores = eval(input('請輸入學生分數(最高300分):'))     #input為內建function\n",
    "    print(f'輸入的分數為:{scores}')\n",
    "    is_add = input('學生是否待合加分修件?(y,n)')\n",
    "    if is_add == 'y':       #有兩個if判斷式為巢狀if\n",
    "        print('該學生可加分')\n",
    "        scores  *= 1.05\n",
    "    if scores > 300:\n",
    "        scores = 300\n",
    "    print(f'學生的分數:{scores:.0f}')\n",
    "except:\n",
    "    print('error occur')\n",
    "print('end')\n"
   ]
  },
  {
   "cell_type": "code",
   "execution_count": 9,
   "metadata": {},
   "outputs": [
    {
     "name": "stdout",
     "output_type": "stream",
     "text": [
      "未知錯誤\n",
      "end\n"
     ]
    }
   ],
   "source": [
    "#學生總分最高為300\n",
    "#如果分數超過300,就以300分為準\n",
    "#有些學生可以加分5%,但若分數超過300,就以300分為準\n",
    "#第2種解決方法\n",
    "try:\n",
    "    scores = eval(input('請輸入學生分數(最高300分):'))     #input為內建function\n",
    "    print(f'輸入的分數為:{scores}')\n",
    "    is_add = input('學生是否待合加分修件?(y,n)')\n",
    "    if is_add == 'y':       #有兩個if判斷式為巢狀if\n",
    "        print('該學生可加分')\n",
    "        scores  *= 1.05\n",
    "    if scores > 300:\n",
    "        scores = 300\n",
    "    print(f'學生的分數:{scores:.0f}')\n",
    "except SyntaxError:\n",
    "    print('輸入格式諎誤')\n",
    "except Exception:\n",
    "    print('未知錯誤')\n",
    "print('end')"
   ]
  }
 ],
 "metadata": {
  "kernelspec": {
   "display_name": "Python 3",
   "language": "python",
   "name": "python3"
  },
  "language_info": {
   "codemirror_mode": {
    "name": "ipython",
    "version": 3
   },
   "file_extension": ".py",
   "mimetype": "text/x-python",
   "name": "python",
   "nbconvert_exporter": "python",
   "pygments_lexer": "ipython3",
   "version": "3.10.15"
  }
 },
 "nbformat": 4,
 "nbformat_minor": 2
}
