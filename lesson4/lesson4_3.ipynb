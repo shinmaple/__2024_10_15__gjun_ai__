{
 "cells": [
  {
   "cell_type": "markdown",
   "metadata": {},
   "source": [
    "### if..else"
   ]
  },
  {
   "cell_type": "code",
   "execution_count": 7,
   "metadata": {},
   "outputs": [
    {
     "name": "stdout",
     "output_type": "stream",
     "text": [
      "failed!!!\n",
      "D\n"
     ]
    }
   ],
   "source": [
    "scores = int(input('input score(0~100)'))\n",
    "if scores >= 60:\n",
    "    print('pass')\n",
    "    if scores >= 90:\n",
    "        print('purfect:S')\n",
    "else:\n",
    "    print('failed!!!')\n",
    "    if scores >= 50:\n",
    "        print('C')\n",
    "    else:\n",
    "        print('D')"
   ]
  },
  {
   "cell_type": "code",
   "execution_count": 17,
   "metadata": {},
   "outputs": [
    {
     "name": "stdout",
     "output_type": "stream",
     "text": [
      "C\n",
      "end\n"
     ]
    }
   ],
   "source": [
    "scores = int(input('input score(0~100)'))\n",
    "if scores >= 90:\n",
    "    print('S')\n",
    "else:\n",
    "    if scores>=80:\n",
    "        print('A')\n",
    "    else:\n",
    "        if scores>=70:\n",
    "            print('B')\n",
    "        else:\n",
    "            if scores >= 60:\n",
    "                print('C')\n",
    "            else:\n",
    "                print('D')\n",
    "print('end')"
   ]
  },
  {
   "cell_type": "code",
   "execution_count": 24,
   "metadata": {},
   "outputs": [
    {
     "name": "stdout",
     "output_type": "stream",
     "text": [
      "A\n",
      "end\n"
     ]
    }
   ],
   "source": [
    "scores = int(input('input score(0~100)'))\n",
    "if scores >= 90:    #這裡有1個條件,>90\n",
    "    print('S')\n",
    "elif scores>=80:    #這裡有兩個條件..第1個el是指小於90,第2個再做if>=80\n",
    "    print('A')\n",
    "elif scores>=70:\n",
    "    print('B')\n",
    "elif scores >= 60:\n",
    "    print('C')\n",
    "else:\n",
    "    print('D')\n",
    "print('end')"
   ]
  },
  {
   "cell_type": "markdown",
   "metadata": {},
   "source": [
    "### 請檢查輸入的格式\n",
    "- 格式錯誤,結束程式"
   ]
  },
  {
   "cell_type": "code",
   "execution_count": 48,
   "metadata": {},
   "outputs": [
    {
     "name": "stdout",
     "output_type": "stream",
     "text": [
      "請輸入身高(cm):170\n",
      "請輸入體重(kg):80\n",
      "您的BMI值:27.68\n",
      "您的體重：輕度肥胖\n",
      "end\n"
     ]
    }
   ],
   "source": [
    "try:\n",
    "    Height = eval(input('請輸入身高(cm):'))\n",
    "    Weight = eval(input('請輸入體重(kg):'))\n",
    "    BMI = Weight / (Height/100)**2\n",
    "    print(f'請輸入身高(cm):{Height}')\n",
    "    print(f'請輸入體重(kg):{Weight}')\n",
    "    print(f'您的BMI值:{BMI:.2f}')\n",
    "    if BMI >= 35:\n",
    "        print('您的體重：重度肥胖')\n",
    "    elif BMI>=30:\n",
    "        print('您的體重：中度肥胖')\n",
    "    elif BMI>=27:\n",
    "       print('您的體重：輕度肥胖')\n",
    "    elif BMI >= 24:\n",
    "       print('您的體重：過重')\n",
    "    elif BMI >= 18.5:\n",
    "       print('您的體重：適中')\n",
    "    else:\n",
    "        print('您的體重：過輕')\n",
    "except SyntaxError:\n",
    "    print('輸入格式諎誤')\n",
    "except Exception:\n",
    "    print('未知錯誤')\n",
    "print('end')\n"
   ]
  }
 ],
 "metadata": {
  "kernelspec": {
   "display_name": "Python 3",
   "language": "python",
   "name": "python3"
  },
  "language_info": {
   "codemirror_mode": {
    "name": "ipython",
    "version": 3
   },
   "file_extension": ".py",
   "mimetype": "text/x-python",
   "name": "python",
   "nbconvert_exporter": "python",
   "pygments_lexer": "ipython3",
   "version": "3.10.15"
  }
 },
 "nbformat": 4,
 "nbformat_minor": 2
}
