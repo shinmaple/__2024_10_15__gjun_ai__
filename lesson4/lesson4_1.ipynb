{
 "cells": [
  {
   "cell_type": "markdown",
   "metadata": {},
   "source": [
    "### 判斷if"
   ]
  },
  {
   "cell_type": "code",
   "execution_count": 13,
   "metadata": {},
   "outputs": [
    {
     "name": "stdout",
     "output_type": "stream",
     "text": [
      "加分\n",
      "學生的分數:265.65\n"
     ]
    }
   ],
   "source": [
    "#學生總分最高為300\n",
    "#如果分數超過300,就以300分為準\n",
    "#有些學生可以加分5%\n",
    "scores = eval(input('請輸入學生分數(最高300分):'))     #input為內建function\n",
    "if scores > 300:\n",
    "    scores = 300\n",
    "is_add = input('學生是否待合加分修件?(y,n)')\n",
    "if is_add == 'y':\n",
    "    print('加分')\n",
    "    scores  *= 1.05\n",
    "print(f'學生的分數:{scores:.2f}')\n",
    "\n"
   ]
  },
  {
   "cell_type": "code",
   "execution_count": 19,
   "metadata": {},
   "outputs": [
    {
     "name": "stdout",
     "output_type": "stream",
     "text": [
      "輸入的分數為:299\n",
      "該學生可加分\n",
      "學生的分數:300\n"
     ]
    }
   ],
   "source": [
    "#學生總分最高為300\n",
    "#如果分數超過300,就以300分為準\n",
    "#有些學生可以加分5%,但若分數超過300,就以300分為準\n",
    "scores = eval(input('請輸入學生分數(最高300分):'))     #input為內建function\n",
    "print(f'輸入的分數為:{scores}')\n",
    "is_add = input('學生是否待合加分修件?(y,n)')\n",
    "if is_add == 'y':       #有兩個if判斷式為巢狀if\n",
    "    print('該學生可加分')\n",
    "    scores  *= 1.05\n",
    "    if scores > 300:\n",
    "        scores = 300\n",
    "print(f'學生的分數:{scores:.0f}')"
   ]
  },
  {
   "cell_type": "markdown",
   "metadata": {},
   "source": [
    "### python raise 錯誤 (當沒辦法處理的時侯就為raise錯誤)\n",
    "- 自己raise錯誤\n",
    "- 系統錯誤"
   ]
  },
  {
   "cell_type": "code",
   "execution_count": 20,
   "metadata": {},
   "outputs": [
    {
     "ename": "RuntimeError",
     "evalue": "",
     "output_type": "error",
     "traceback": [
      "\u001b[0;31m---------------------------------------------------------------------------\u001b[0m",
      "\u001b[0;31mRuntimeError\u001b[0m                              Traceback (most recent call last)",
      "Cell \u001b[0;32mIn[20], line 2\u001b[0m\n\u001b[1;32m      1\u001b[0m \u001b[38;5;66;03m#自己raise錯誤\u001b[39;00m\n\u001b[0;32m----> 2\u001b[0m \u001b[38;5;28;01mraise\u001b[39;00m \u001b[38;5;167;01mRuntimeError\u001b[39;00m\n",
      "\u001b[0;31mRuntimeError\u001b[0m: "
     ]
    }
   ],
   "source": [
    "#自己raise錯誤\n",
    "raise RuntimeError"
   ]
  },
  {
   "cell_type": "code",
   "execution_count": 22,
   "metadata": {},
   "outputs": [
    {
     "ename": "Exception",
     "evalue": "無法處理",
     "output_type": "error",
     "traceback": [
      "\u001b[0;31m---------------------------------------------------------------------------\u001b[0m",
      "\u001b[0;31mException\u001b[0m                                 Traceback (most recent call last)",
      "Cell \u001b[0;32mIn[22], line 3\u001b[0m\n\u001b[1;32m      1\u001b[0m \u001b[38;5;66;03m#處理錯誤\u001b[39;00m\n\u001b[1;32m      2\u001b[0m \u001b[38;5;66;03m#利用內建的例外,發出錯誤\u001b[39;00m\n\u001b[0;32m----> 3\u001b[0m \u001b[38;5;28;01mraise\u001b[39;00m \u001b[38;5;167;01mException\u001b[39;00m(\u001b[38;5;124m'\u001b[39m\u001b[38;5;124m無法處理\u001b[39m\u001b[38;5;124m'\u001b[39m)\n",
      "\u001b[0;31mException\u001b[0m: 無法處理"
     ]
    }
   ],
   "source": [
    "#利用內建的例外,發出錯誤\n",
    "raise Exception('無法處理')"
   ]
  },
  {
   "cell_type": "code",
   "execution_count": 24,
   "metadata": {},
   "outputs": [
    {
     "name": "stdout",
     "output_type": "stream",
     "text": [
      "error occur\n"
     ]
    }
   ],
   "source": [
    "#處理錯誤try...excep...finally\n",
    "try:\n",
    "    raise Exception('無法處理')  #只要在這程式區塊內有raise錯誤,立即停止程式,並且處理\n",
    "except:\n",
    "    print('error occur')"
   ]
  },
  {
   "cell_type": "code",
   "execution_count": 26,
   "metadata": {},
   "outputs": [
    {
     "name": "stdout",
     "output_type": "stream",
     "text": [
      " no error\n"
     ]
    }
   ],
   "source": [
    "#處理錯誤try...excep...finally\n",
    "#輸出是何種錯誤\n",
    "#else <--- 沒有發生錯誤,執行的程式區塊\n",
    "try:\n",
    "    #raise Exception('無法處理')  #只要在這程式區塊內有raise錯誤,立即停止程式,並且處理\n",
    "    pass\n",
    "except Exception as e:               #這裡加上exception..不管遇到什麼錯誤都\n",
    "    print('error occur')\n",
    "    print(f'錯誤是:{e}')\n",
    "else:\n",
    "    print(' no error')"
   ]
  },
  {
   "cell_type": "code",
   "execution_count": 28,
   "metadata": {},
   "outputs": [
    {
     "name": "stdout",
     "output_type": "stream",
     "text": [
      "error occur:invalid decimal literal (<string>, line 1)\n"
     ]
    }
   ],
   "source": [
    "try:\n",
    "    money = eval(input('請輸入金額:'))\n",
    "    print(money)\n",
    "except Exception as e:\n",
    "    print(f'error occur:{e}')\n"
   ]
  }
 ],
 "metadata": {
  "kernelspec": {
   "display_name": "Python 3",
   "language": "python",
   "name": "python3"
  },
  "language_info": {
   "codemirror_mode": {
    "name": "ipython",
    "version": 3
   },
   "file_extension": ".py",
   "mimetype": "text/x-python",
   "name": "python",
   "nbconvert_exporter": "python",
   "pygments_lexer": "ipython3",
   "version": "3.10.15"
  }
 },
 "nbformat": 4,
 "nbformat_minor": 2
}
