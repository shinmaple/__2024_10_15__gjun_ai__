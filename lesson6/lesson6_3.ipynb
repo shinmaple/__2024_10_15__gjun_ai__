{
 "cells": [
  {
   "cell_type": "code",
   "execution_count": 2,
   "metadata": {},
   "outputs": [
    {
     "name": "stdout",
     "output_type": "stream",
     "text": [
      "==猜數字==\n",
      "\n",
      "43\n",
      "再小一點\n",
      "您已猜了1次\n",
      "==============\n",
      "再大一點\n",
      "您已猜了2次\n",
      "==============\n",
      "YES!43\n",
      "您總共猜了3次\n",
      "==猜數字==\n",
      "\n",
      "28\n",
      "YES!28\n",
      "您總共猜了1次\n",
      "GAME OVER\n"
     ]
    }
   ],
   "source": [
    "import random\n",
    "def playgame()-> None:\n",
    "    min =1\n",
    "    max=100\n",
    "    count = 0\n",
    "    target = random.randint(min,max)\n",
    "    print(\"==猜數字==\\n\")\n",
    "    print(target)\n",
    "    while(True):\n",
    "        count +=1\n",
    "        try:\n",
    "            keyin = int(input(f\"猜{min}~{max}:\"))\n",
    "        except Exception:\n",
    "            print(\"over range!!!plsease re-input\")\n",
    "            continue\n",
    "        if keyin >= min and keyin <= max:\n",
    "            if(keyin == target):\n",
    "                    print(f\"YES!{target}\")\n",
    "                    print(f\"您總共猜了{count}次\")\n",
    "                    break\n",
    "            elif keyin > target:\n",
    "                    print(\"再小一點\")\n",
    "                    max = keyin - 1\n",
    "            elif keyin < target:\n",
    "                    print(\"再大一點\")\n",
    "                    min = keyin + 1\n",
    "            print(f\"您已猜了{count}次\")\n",
    "            print(\"==============\")\n",
    "        else:\n",
    "            print(\"plsease re-input\")\n",
    "\n",
    "while(True):\n",
    "    playgame()\n",
    "    answer = input(\"請問還要繼續嗎?y,n\")\n",
    "    if answer.upper() == 'N':\n",
    "        break\n",
    "print(\"GAME OVER\")\n"
   ]
  }
 ],
 "metadata": {
  "kernelspec": {
   "display_name": "Python 3",
   "language": "python",
   "name": "python3"
  },
  "language_info": {
   "codemirror_mode": {
    "name": "ipython",
    "version": 3
   },
   "file_extension": ".py",
   "mimetype": "text/x-python",
   "name": "python",
   "nbconvert_exporter": "python",
   "pygments_lexer": "ipython3",
   "version": "3.10.15"
  }
 },
 "nbformat": 4,
 "nbformat_minor": 2
}
