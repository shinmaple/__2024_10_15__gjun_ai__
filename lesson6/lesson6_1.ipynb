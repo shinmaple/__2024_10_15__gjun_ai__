{
 "cells": [
  {
   "cell_type": "code",
   "execution_count": 2,
   "metadata": {},
   "outputs": [
    {
     "name": "stdout",
     "output_type": "stream",
     "text": [
      "恭喜!存了8個月總存款:37010元\n"
     ]
    }
   ],
   "source": [
    "deposit = 0\n",
    "month = 0\n",
    "\n",
    "while(True):\n",
    "    month += 1\n",
    "    money = int(input(f\"請輸入第{month}:\"))\n",
    "    deposit += money\n",
    "    if deposit >= 30000:\n",
    "        break\n",
    "print(f\"恭喜!存了{month}個月總存款:{deposit}元\")"
   ]
  },
  {
   "cell_type": "code",
   "execution_count": 6,
   "metadata": {},
   "outputs": [
    {
     "name": "stdout",
     "output_type": "stream",
     "text": [
      "END\n"
     ]
    }
   ],
   "source": [
    "#請輸入小寫英文字,輸出第一個大寫英文字,如果按q則結束程式\n",
    "\n",
    "while(True):\n",
    "    stuff = input(\"請輸入小寫英文字[按q會離開]\")\n",
    "    if stuff.upper() == 'Q':\n",
    "        break\n",
    "    print(stuff.capitalize())\n",
    "print(\"END\")\n"
   ]
  },
  {
   "cell_type": "code",
   "execution_count": 11,
   "metadata": {},
   "outputs": [
    {
     "name": "stdout",
     "output_type": "stream",
     "text": [
      "format error,please re-enter\n",
      "9\n",
      "81\n",
      "format error,please re-enter\n",
      "END\n"
     ]
    }
   ],
   "source": [
    "'''\n",
    "docstring\n",
    "顯示:\n",
    "請輸入整數,\n",
    "'''\n",
    "\n",
    "while (True):\n",
    "    value = input(\"請輸入整數,輸入[q]離開\")\n",
    "    if value.upper() == 'Q':\n",
    "        break\n",
    "    try:\n",
    "        value_int=int(value)\n",
    "    except:\n",
    "        print(\"format error,please re-enter\")\n",
    "        continue\n",
    "    if not (value_int % 2) == 0:\n",
    "        print(value_int**2)\n",
    "print(\"END\")\n"
   ]
  },
  {
   "cell_type": "code",
   "execution_count": 14,
   "metadata": {},
   "outputs": [
    {
     "data": {
      "text/plain": [
       "10"
      ]
     },
     "execution_count": 14,
     "metadata": {},
     "output_type": "execute_result"
    }
   ],
   "source": [
    "#建立亂數\n",
    "import random\n",
    "random.randint(1,10)"
   ]
  },
  {
   "cell_type": "code",
   "execution_count": 38,
   "metadata": {},
   "outputs": [
    {
     "name": "stdout",
     "output_type": "stream",
     "text": [
      "==猜數字==\n",
      "\n",
      "plsease re-input\n",
      "over range!!!plsease re-input\n",
      "再大一點\n",
      "您已猜了3次\n",
      "==============\n",
      "再大一點\n",
      "您已猜了4次\n",
      "==============\n",
      "YES!89\n",
      "您總共猜了5次\n",
      "END\n"
     ]
    }
   ],
   "source": [
    "#猜數字遊戲\n",
    "import random\n",
    "\n",
    "min =1\n",
    "max=100\n",
    "count = 0\n",
    "target = random.randint(min,max)\n",
    "print(\"==猜數字==\\n\")\n",
    "\n",
    "while(True):\n",
    "    count +=1\n",
    "    try:\n",
    "        keyin = int(input(f\"猜{min}~{max}:\"))\n",
    "    except Exception:\n",
    "        print(\"over range!!!plsease re-input\")\n",
    "        continue\n",
    "    if keyin >= min and keyin <= max:\n",
    "        if(keyin == target):\n",
    "                print(f\"YES!{target}\")\n",
    "                print(f\"您總共猜了{count}次\")\n",
    "                break\n",
    "        elif keyin > target:\n",
    "                  print(\"再小一點\")\n",
    "                  max = keyin - 1\n",
    "        elif keyin < target:\n",
    "                 print(\"再大一點\")\n",
    "                 min = keyin + 1\n",
    "        print(f\"您已猜了{count}次\")\n",
    "        print(\"==============\")\n",
    "    else:\n",
    "        print(\"plsease re-input\")\n",
    "print(\"END\")"
   ]
  }
 ],
 "metadata": {
  "kernelspec": {
   "display_name": "Python 3",
   "language": "python",
   "name": "python3"
  },
  "language_info": {
   "codemirror_mode": {
    "name": "ipython",
    "version": 3
   },
   "file_extension": ".py",
   "mimetype": "text/x-python",
   "name": "python",
   "nbconvert_exporter": "python",
   "pygments_lexer": "ipython3",
   "version": "3.10.15"
  }
 },
 "nbformat": 4,
 "nbformat_minor": 2
}
