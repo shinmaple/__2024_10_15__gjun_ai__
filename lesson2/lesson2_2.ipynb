{
 "cells": [
  {
   "cell_type": "markdown",
   "metadata": {},
   "source": [
    "## 這個章節是教print(),input()等內建的function\n",
    "- include there ex."
   ]
  }
 ],
 "metadata": {
  "language_info": {
   "name": "python"
  }
 },
 "nbformat": 4,
 "nbformat_minor": 2
}
