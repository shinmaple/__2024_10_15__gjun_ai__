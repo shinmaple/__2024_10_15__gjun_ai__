{
 "cells": [
  {
   "cell_type": "code",
   "execution_count": 7,
   "metadata": {},
   "outputs": [],
   "source": [
    "import os\n",
    "import pandas as pd\n",
    "from pandas import DataFrame\n",
    "\n",
    "def merge_data(station_paths:list[str],info:str)->DataFrame:\n",
    "    '''\n",
    "    傳出所有資料\n",
    "    '''\n",
    "   # print(station_paths)\n",
    "    #print(\"========================\")\n",
    "    #print(info)\n",
    "    info_df = pd.read_csv(info)\n",
    "    merge_datas = []\n",
    "    for sta_path in station_paths:\n",
    "        station_df = pd.read_csv(sta_path)     \n",
    "        merge_df = pd.merge(station_df,info_df, how='left',left_on='staCode',right_on='stationCode')\n",
    "        merge_datas.append(merge_df)\n",
    "    return pd.concat(merge_datas)\n",
    "current_folder = os.getcwd()     #取得現在的目錄\n",
    "stations_folder = os.path.join(current_folder,'stations')\n",
    "csv_abs_files = []\n",
    "for filename in os.listdir(stations_folder):\n",
    "    if '每日各站' in filename:\n",
    "        os.path.join(stations_folder,filename)\n",
    "        csv_abs_files.append(os.path.join(stations_folder,filename))\n",
    "\n",
    "info_path = os.path.join(stations_folder,'台鐵車站資訊.csv')\n",
    "\n",
    "df = merge_data(csv_abs_files,info_path)\n",
    "df1 = df[['trnOpDate','gateInComingCnt','gateOutGoingCnt','name','stationAddrTw','haveBike']]\n"
   ]
  },
  {
   "cell_type": "code",
   "execution_count": null,
   "metadata": {},
   "outputs": [],
   "source": [
    "df1.columns = ['日期','進站人數','出站人數','站名','地址','YOUBIKE']\n",
    "df1"
   ]
  },
  {
   "cell_type": "code",
   "execution_count": 10,
   "metadata": {},
   "outputs": [
    {
     "name": "stdout",
     "output_type": "stream",
     "text": [
      "<class 'pandas.core.frame.DataFrame'>\n",
      "Index: 406761 entries, 0 to 86551\n",
      "Data columns (total 6 columns):\n",
      " #   Column   Non-Null Count   Dtype \n",
      "---  ------   --------------   ----- \n",
      " 0   日期       406761 non-null  int64 \n",
      " 1   進站人數     406761 non-null  int64 \n",
      " 2   出站人數     406761 non-null  int64 \n",
      " 3   站名       406761 non-null  object\n",
      " 4   地址       406761 non-null  object\n",
      " 5   YOUBIKE  406761 non-null  object\n",
      "dtypes: int64(3), object(3)\n",
      "memory usage: 21.7+ MB\n"
     ]
    }
   ],
   "source": [
    "df1.info()"
   ]
  },
  {
   "cell_type": "code",
   "execution_count": 13,
   "metadata": {},
   "outputs": [
    {
     "name": "stderr",
     "output_type": "stream",
     "text": [
      "/tmp/ipykernel_28843/2238973697.py:1: SettingWithCopyWarning: \n",
      "A value is trying to be set on a copy of a slice from a DataFrame.\n",
      "Try using .loc[row_indexer,col_indexer] = value instead\n",
      "\n",
      "See the caveats in the documentation: https://pandas.pydata.org/pandas-docs/stable/user_guide/indexing.html#returning-a-view-versus-a-copy\n",
      "  df1['日期'] = pd.to_datetime(df1['日期'].astype(str))#先把serial轉成字串再轉成datetime\n"
     ]
    }
   ],
   "source": [
    "df1['日期'] = pd.to_datetime(df1['日期'].astype(str))#先把serial轉成字串再轉成datetime\n"
   ]
  },
  {
   "cell_type": "code",
   "execution_count": null,
   "metadata": {},
   "outputs": [],
   "source": [
    "df1"
   ]
  },
  {
   "cell_type": "code",
   "execution_count": 15,
   "metadata": {},
   "outputs": [
    {
     "name": "stdout",
     "output_type": "stream",
     "text": [
      "<class 'pandas.core.frame.DataFrame'>\n",
      "Index: 406761 entries, 0 to 86551\n",
      "Data columns (total 6 columns):\n",
      " #   Column   Non-Null Count   Dtype         \n",
      "---  ------   --------------   -----         \n",
      " 0   日期       406761 non-null  datetime64[ns]\n",
      " 1   進站人數     406761 non-null  int64         \n",
      " 2   出站人數     406761 non-null  int64         \n",
      " 3   站名       406761 non-null  object        \n",
      " 4   地址       406761 non-null  object        \n",
      " 5   YOUBIKE  406761 non-null  object        \n",
      "dtypes: datetime64[ns](1), int64(2), object(3)\n",
      "memory usage: 21.7+ MB\n"
     ]
    }
   ],
   "source": [
    "df1.info()"
   ]
  },
  {
   "cell_type": "code",
   "execution_count": 17,
   "metadata": {},
   "outputs": [
    {
     "name": "stderr",
     "output_type": "stream",
     "text": [
      "/tmp/ipykernel_28843/768175867.py:1: SettingWithCopyWarning: \n",
      "A value is trying to be set on a copy of a slice from a DataFrame.\n",
      "Try using .loc[row_indexer,col_indexer] = value instead\n",
      "\n",
      "See the caveats in the documentation: https://pandas.pydata.org/pandas-docs/stable/user_guide/indexing.html#returning-a-view-versus-a-copy\n",
      "  df1['YOUBIKE']=df1['YOUBIKE'].map({'Y':1,'N':0})\n"
     ]
    }
   ],
   "source": [
    "df1['YOUBIKE']=df1['YOUBIKE'].map({'Y':1,'N':0})"
   ]
  },
  {
   "cell_type": "code",
   "execution_count": null,
   "metadata": {},
   "outputs": [],
   "source": [
    "df1"
   ]
  },
  {
   "cell_type": "code",
   "execution_count": 19,
   "metadata": {},
   "outputs": [
    {
     "name": "stdout",
     "output_type": "stream",
     "text": [
      "<class 'pandas.core.frame.DataFrame'>\n",
      "Index: 406761 entries, 0 to 86551\n",
      "Data columns (total 6 columns):\n",
      " #   Column   Non-Null Count   Dtype         \n",
      "---  ------   --------------   -----         \n",
      " 0   日期       406761 non-null  datetime64[ns]\n",
      " 1   進站人數     406761 non-null  int64         \n",
      " 2   出站人數     406761 non-null  int64         \n",
      " 3   站名       406761 non-null  object        \n",
      " 4   地址       406761 non-null  object        \n",
      " 5   YOUBIKE  406761 non-null  int64         \n",
      "dtypes: datetime64[ns](1), int64(3), object(2)\n",
      "memory usage: 21.7+ MB\n"
     ]
    }
   ],
   "source": [
    "df1.info()"
   ]
  },
  {
   "cell_type": "code",
   "execution_count": null,
   "metadata": {},
   "outputs": [],
   "source": [
    "df2 = df1.sort_values(by='日期')#依日期排序\n",
    "df3 = df2.set_index('日期')     #將索引值改成日期\n",
    "df3"
   ]
  },
  {
   "cell_type": "code",
   "execution_count": 23,
   "metadata": {},
   "outputs": [
    {
     "data": {
      "text/plain": [
       "日期\n",
       "2019-04-23    臺南市\n",
       "2019-04-23    彰化縣\n",
       "2019-04-23    南投縣\n",
       "2019-04-23    南投縣\n",
       "2019-04-23    南投縣\n",
       "             ... \n",
       "2023-12-31    彰化縣\n",
       "2023-12-31    彰化縣\n",
       "2023-12-31    彰化縣\n",
       "2023-12-31    臺中市\n",
       "2023-12-31    基隆市\n",
       "Name: 地址, Length: 406761, dtype: object"
      ]
     },
     "execution_count": 23,
     "metadata": {},
     "output_type": "execute_result"
    }
   ],
   "source": [
    "def first_third(val:str)->str:\n",
    "    return val[:3]  #字串是序列資料,所以可以用:來取前3個\n",
    "df3['地址'].map(first_third)"
   ]
  },
  {
   "cell_type": "code",
   "execution_count": null,
   "metadata": {},
   "outputs": [],
   "source": [
    "df3['縣市'] = df3['地址'].map(lambda v:v[:3])\n",
    "df3"
   ]
  },
  {
   "cell_type": "code",
   "execution_count": 27,
   "metadata": {},
   "outputs": [
    {
     "data": {
      "text/plain": [
       "Index([23, 23, 23, 23, 23, 23, 23, 23, 23, 23,\n",
       "       ...\n",
       "       31, 31, 31, 31, 31, 31, 31, 31, 31, 31],\n",
       "      dtype='int32', name='日期', length=406761)"
      ]
     },
     "execution_count": 27,
     "metadata": {},
     "output_type": "execute_result"
    }
   ],
   "source": [
    "df3.index.day       #如果索引是timestamp,就可以用.day的這種工具來抓出日"
   ]
  },
  {
   "cell_type": "code",
   "execution_count": 31,
   "metadata": {},
   "outputs": [],
   "source": [
    "df3['年度'] = df3.index.strftime('%Y')\n",
    "df3['年/月'] = df3.index.strftime('%Y/%m')"
   ]
  },
  {
   "cell_type": "code",
   "execution_count": null,
   "metadata": {},
   "outputs": [],
   "source": [
    "df4 = df3.reindex(columns=['縣市','年度','年/月','站名','進站人數','出站人數','YOUBIKE'])\n",
    "df4"
   ]
  },
  {
   "cell_type": "code",
   "execution_count": 37,
   "metadata": {},
   "outputs": [],
   "source": [
    "df4.to_csv('全台火車進出站資料.csv')"
   ]
  }
 ],
 "metadata": {
  "kernelspec": {
   "display_name": "Python 3",
   "language": "python",
   "name": "python3"
  },
  "language_info": {
   "codemirror_mode": {
    "name": "ipython",
    "version": 3
   },
   "file_extension": ".py",
   "mimetype": "text/x-python",
   "name": "python",
   "nbconvert_exporter": "python",
   "pygments_lexer": "ipython3",
   "version": "3.10.15"
  }
 },
 "nbformat": 4,
 "nbformat_minor": 2
}
