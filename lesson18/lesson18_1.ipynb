{
 "cells": [
  {
   "cell_type": "code",
   "execution_count": null,
   "metadata": {},
   "outputs": [],
   "source": [
    "import os\n",
    "\n",
    "current_folder = os.getcwd()     #取得現在的目錄\n",
    "os.path.abspath('.')#取得絕對目錄\n",
    "stations_folder = os.path.join(current_folder,'stations')\n",
    "csv_abs_files = []\n",
    "for filename in os.listdir(stations_folder):\n",
    "    if '每日各站' in filename:\n",
    "        print(os.path.join(stations_folder,filename))\n",
    "        csv_abs_files.append(os.path.join(stations_folder,filename))\n",
    "csv_abs_files"
   ]
  },
  {
   "cell_type": "code",
   "execution_count": 17,
   "metadata": {},
   "outputs": [],
   "source": [
    "import pandas as pd\n",
    "station_df = pd.read_csv(csv_abs_files[0])"
   ]
  },
  {
   "cell_type": "code",
   "execution_count": null,
   "metadata": {},
   "outputs": [],
   "source": [
    "info_path = os.path.join(stations_folder,'台鐵車站資訊.csv')\n",
    "info_df = pd.read_csv(info_path)      #key value的連結..使用pandas裡面提供的funtion-> merge()\n",
    "#pandas.merge(left, right, how='inner', on=None, left_on=None, right_on=None, left_index=False, right_index=False, sort=False, suffixes=('_x', '_y'), copy=None, indicator=False, validate=None)\n",
    "#用how='left'依左邊的key value才會找出來\n",
    "merge_df = pd.merge(station_df,info_df, how='left',left_on='staCode',right_on='stationCode')\n",
    "\n"
   ]
  }
 ],
 "metadata": {
  "kernelspec": {
   "display_name": "Python 3",
   "language": "python",
   "name": "python3"
  },
  "language_info": {
   "codemirror_mode": {
    "name": "ipython",
    "version": 3
   },
   "file_extension": ".py",
   "mimetype": "text/x-python",
   "name": "python",
   "nbconvert_exporter": "python",
   "pygments_lexer": "ipython3",
   "version": "3.10.15"
  }
 },
 "nbformat": 4,
 "nbformat_minor": 2
}
