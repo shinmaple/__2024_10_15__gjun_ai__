{
 "cells": [
  {
   "cell_type": "code",
   "execution_count": 1,
   "metadata": {},
   "outputs": [
    {
     "name": "stdout",
     "output_type": "stream",
     "text": [
      "趙家豪\n",
      "盧必妍\n",
      "陳嘉淑\n",
      "張軒宸\n",
      "簡佳樺\n"
     ]
    }
   ],
   "source": [
    "import random\n",
    "def get_names(nums:int = 2)->list[str]:\n",
    "    with open('names.txt', mode='r', encoding = 'utf-8') as f:  \n",
    "        names_str = f.read()\n",
    "    names:list[str] = names_str.split(sep= '\\n')    #name後面加上:list[str] 增加程式可讀性\n",
    "    names_list = random.choices(names,k=nums)\n",
    "    return names_list\n",
    "nums = int(input('輸入學生數量(最多十位:)'))\n",
    "student_names:list[str] = get_names(nums = nums)    #這裡的nums=nums不會搞混,因為nums= 程式會知道是引數名稱的呼叫、後面的nums是上一行輸入的值\n",
    "for name in student_names:\n",
    "    print(name)"
   ]
  },
  {
   "cell_type": "code",
   "execution_count": null,
   "metadata": {},
   "outputs": [],
   "source": [
    "def generate_students(names:list[str])->list[dict]:\n",
    "    students:list[dict] = []    #先給students這個dict塞一個空的\n",
    "    for name in names:\n",
    "        #print(name)\n",
    "        chinese = random.randint(50, 100)\n",
    "        #print(chinese)\n",
    "        english = random.randint(50, 100)\n",
    "        #print(english)\n",
    "        math1 = random.randint(50, 100)\n",
    "        #print(math1)\n",
    "        math2 = random.randint(50, 100)\n",
    "        #print(math2)\n",
    "        student={'name':name,'chinese':chinese,'english':english,'math1':math1,'math2':math2}\n",
    "        students.append(student)\n",
    "    return students\n"
   ]
  },
  {
   "cell_type": "code",
   "execution_count": 35,
   "metadata": {},
   "outputs": [
    {
     "data": {
      "text/plain": [
       "[{'name': '趙家豪', 'chinese': 83, 'english': 65, 'math1': 78, 'math2': 68},\n",
       " {'name': '盧必妍', 'chinese': 74, 'english': 86, 'math1': 51, 'math2': 92},\n",
       " {'name': '陳嘉淑', 'chinese': 77, 'english': 71, 'math1': 69, 'math2': 89},\n",
       " {'name': '張軒宸', 'chinese': 90, 'english': 60, 'math1': 83, 'math2': 77},\n",
       " {'name': '簡佳樺', 'chinese': 77, 'english': 70, 'math1': 97, 'math2': 89}]"
      ]
     },
     "execution_count": 35,
     "metadata": {},
     "output_type": "execute_result"
    }
   ],
   "source": [
    "s1 = generate_students(names = student_names)\n",
    "s1"
   ]
  },
  {
   "cell_type": "code",
   "execution_count": null,
   "metadata": {},
   "outputs": [],
   "source": []
  }
 ],
 "metadata": {
  "kernelspec": {
   "display_name": "Python 3",
   "language": "python",
   "name": "python3"
  },
  "language_info": {
   "codemirror_mode": {
    "name": "ipython",
    "version": 3
   },
   "file_extension": ".py",
   "mimetype": "text/x-python",
   "name": "python",
   "nbconvert_exporter": "python",
   "pygments_lexer": "ipython3",
   "version": "3.10.15"
  }
 },
 "nbformat": 4,
 "nbformat_minor": 2
}
