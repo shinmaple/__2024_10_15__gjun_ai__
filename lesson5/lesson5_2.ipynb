{
 "cells": [
  {
   "cell_type": "markdown",
   "metadata": {},
   "source": [
    "# interable 可迭代\n",
    "- 序列資料\n",
    "- 字串資料\n",
    "---\n",
    "-  何時使用for...in迴圈：明確知道執行的次數\n",
    "-  何時使用while迴圈：不知道執行次數"
   ]
  },
  {
   "cell_type": "code",
   "execution_count": 1,
   "metadata": {},
   "outputs": [
    {
     "data": {
      "text/plain": [
       "range(1, 10, 2)"
      ]
     },
     "execution_count": 1,
     "metadata": {},
     "output_type": "execute_result"
    }
   ],
   "source": [
    "range(10)   ### 0~9\n",
    "range(1,10) ### 1~9\n",
    "range(1,10,2)   ### 1,3,5,7,9"
   ]
  },
  {
   "cell_type": "code",
   "execution_count": 3,
   "metadata": {},
   "outputs": [
    {
     "data": {
      "text/plain": [
       "55"
      ]
     },
     "execution_count": 3,
     "metadata": {},
     "output_type": "execute_result"
    }
   ],
   "source": [
    "sum = 0\n",
    "for i in range(1,11):\n",
    "    sum+=i\n",
    "sum"
   ]
  },
  {
   "cell_type": "code",
   "execution_count": 4,
   "metadata": {},
   "outputs": [
    {
     "data": {
      "text/plain": [
       "5050"
      ]
     },
     "execution_count": 4,
     "metadata": {},
     "output_type": "execute_result"
    }
   ],
   "source": [
    "sum = 0\n",
    "for i in range(1,101):\n",
    "    sum+=i\n",
    "sum"
   ]
  },
  {
   "cell_type": "code",
   "execution_count": 5,
   "metadata": {},
   "outputs": [
    {
     "name": "stdout",
     "output_type": "stream",
     "text": [
      "p\n",
      "y\n",
      "t\n",
      "h\n",
      "o\n",
      "n\n"
     ]
    }
   ],
   "source": [
    "for word in 'python':\n",
    "    print(word)"
   ]
  },
  {
   "cell_type": "code",
   "execution_count": null,
   "metadata": {},
   "outputs": [],
   "source": [
    "# 巢狀迴圈\n",
    "for i in range(1,10):\n",
    "    pass"
   ]
  },
  {
   "cell_type": "code",
   "execution_count": 17,
   "metadata": {},
   "outputs": [
    {
     "name": "stdout",
     "output_type": "stream",
     "text": [
      "i=1\n",
      "j=1\n",
      "j=2\n",
      "j=3\n",
      "j=4\n",
      "j=5\n",
      "j=6\n",
      "j=7\n",
      "j=8\n",
      "j=9\n",
      "i=2\n",
      "j=1\n",
      "j=2\n",
      "j=3\n",
      "j=4\n",
      "j=5\n",
      "j=6\n",
      "j=7\n",
      "j=8\n",
      "j=9\n",
      "i=3\n",
      "j=1\n",
      "j=2\n",
      "j=3\n",
      "j=4\n",
      "j=5\n",
      "j=6\n",
      "j=7\n",
      "j=8\n",
      "j=9\n",
      "i=4\n",
      "j=1\n",
      "j=2\n",
      "j=3\n",
      "j=4\n",
      "j=5\n",
      "j=6\n",
      "j=7\n",
      "j=8\n",
      "j=9\n",
      "i=5\n",
      "j=1\n",
      "j=2\n",
      "j=3\n",
      "j=4\n",
      "j=5\n",
      "j=6\n",
      "j=7\n",
      "j=8\n",
      "j=9\n",
      "i=6\n",
      "j=1\n",
      "j=2\n",
      "j=3\n",
      "j=4\n",
      "j=5\n",
      "j=6\n",
      "j=7\n",
      "j=8\n",
      "j=9\n",
      "i=7\n",
      "j=1\n",
      "j=2\n",
      "j=3\n",
      "j=4\n",
      "j=5\n",
      "j=6\n",
      "j=7\n",
      "j=8\n",
      "j=9\n",
      "i=8\n",
      "j=1\n",
      "j=2\n",
      "j=3\n",
      "j=4\n",
      "j=5\n",
      "j=6\n",
      "j=7\n",
      "j=8\n",
      "j=9\n",
      "i=9\n",
      "j=1\n",
      "j=2\n",
      "j=3\n",
      "j=4\n",
      "j=5\n",
      "j=6\n",
      "j=7\n",
      "j=8\n",
      "j=9\n"
     ]
    }
   ],
   "source": [
    "#巢狀迴圈\n",
    "for i in range(1,10):\n",
    "    print(f\"i={i}\")\n",
    "    for j in range(1,10):\n",
    "        print(f\"j={j}\")\n",
    "   \n"
   ]
  },
  {
   "cell_type": "markdown",
   "metadata": {},
   "source": [
    "# print(*objects, sep=' ', end = '\\n')\n",
    "*　代表沒有限制數量的＂引數值＂呼叫\n",
    "*  引數名稱的呼叫,一定要放在後面(如sep、end)"
   ]
  },
  {
   "cell_type": "code",
   "execution_count": null,
   "metadata": {},
   "outputs": [
    {
     "name": "stdout",
     "output_type": "stream",
     "text": [
      "\n",
      "1 2 3 a b c\n",
      "2.3\n",
      "1-2-3-a-b-c.\n",
      "1-2-3-a-b-c.\n"
     ]
    }
   ],
   "source": [
    "print()\n",
    "print(1, 2, 3, 'a', 'b', 'c')\n",
    "print(2.3)\n",
    "print(1, 2, 3, 'a', 'b', 'c',sep = '-',end ='.\\n')\n"
   ]
  },
  {
   "cell_type": "code",
   "execution_count": 15,
   "metadata": {},
   "outputs": [
    {
     "name": "stdout",
     "output_type": "stream",
     "text": [
      "i=1\n",
      "j=1 j=2 j=3 j=4 j=5 j=6 j=7 j=8 j=9 \n",
      "i=2\n",
      "j=1 j=2 j=3 j=4 j=5 j=6 j=7 j=8 j=9 \n",
      "i=3\n",
      "j=1 j=2 j=3 j=4 j=5 j=6 j=7 j=8 j=9 \n",
      "i=4\n",
      "j=1 j=2 j=3 j=4 j=5 j=6 j=7 j=8 j=9 \n",
      "i=5\n",
      "j=1 j=2 j=3 j=4 j=5 j=6 j=7 j=8 j=9 \n",
      "i=6\n",
      "j=1 j=2 j=3 j=4 j=5 j=6 j=7 j=8 j=9 \n",
      "i=7\n",
      "j=1 j=2 j=3 j=4 j=5 j=6 j=7 j=8 j=9 \n",
      "i=8\n",
      "j=1 j=2 j=3 j=4 j=5 j=6 j=7 j=8 j=9 \n",
      "i=9\n",
      "j=1 j=2 j=3 j=4 j=5 j=6 j=7 j=8 j=9 \n"
     ]
    }
   ],
   "source": [
    "#巢狀迴圈\n",
    "for i in range(1,10):\n",
    "    print(f\"i={i}\")\n",
    "    for j in range(1,10):\n",
    "        print(f\"j={j}\", end=' ')\n",
    "    print()     #預設end是換行"
   ]
  },
  {
   "cell_type": "code",
   "execution_count": 19,
   "metadata": {},
   "outputs": [
    {
     "name": "stdout",
     "output_type": "stream",
     "text": [
      "1 * 1 = 1    1 * 2 = 2    1 * 3 = 3    1 * 4 = 4    1 * 5 = 5    1 * 6 = 6    1 * 7 = 7    1 * 8 = 8    1 * 9 = 9    \n",
      "2 * 1 = 2    2 * 2 = 4    2 * 3 = 6    2 * 4 = 8    2 * 5 = 10    2 * 6 = 12    2 * 7 = 14    2 * 8 = 16    2 * 9 = 18    \n",
      "3 * 1 = 3    3 * 2 = 6    3 * 3 = 9    3 * 4 = 12    3 * 5 = 15    3 * 6 = 18    3 * 7 = 21    3 * 8 = 24    3 * 9 = 27    \n",
      "4 * 1 = 4    4 * 2 = 8    4 * 3 = 12    4 * 4 = 16    4 * 5 = 20    4 * 6 = 24    4 * 7 = 28    4 * 8 = 32    4 * 9 = 36    \n",
      "5 * 1 = 5    5 * 2 = 10    5 * 3 = 15    5 * 4 = 20    5 * 5 = 25    5 * 6 = 30    5 * 7 = 35    5 * 8 = 40    5 * 9 = 45    \n",
      "6 * 1 = 6    6 * 2 = 12    6 * 3 = 18    6 * 4 = 24    6 * 5 = 30    6 * 6 = 36    6 * 7 = 42    6 * 8 = 48    6 * 9 = 54    \n",
      "7 * 1 = 7    7 * 2 = 14    7 * 3 = 21    7 * 4 = 28    7 * 5 = 35    7 * 6 = 42    7 * 7 = 49    7 * 8 = 56    7 * 9 = 63    \n",
      "8 * 1 = 8    8 * 2 = 16    8 * 3 = 24    8 * 4 = 32    8 * 5 = 40    8 * 6 = 48    8 * 7 = 56    8 * 8 = 64    8 * 9 = 72    \n",
      "9 * 1 = 9    9 * 2 = 18    9 * 3 = 27    9 * 4 = 36    9 * 5 = 45    9 * 6 = 54    9 * 7 = 63    9 * 8 = 72    9 * 9 = 81    \n"
     ]
    }
   ],
   "source": [
    "#巢狀迴圈\n",
    "for i in range(1,10):\n",
    "    # print(f\"i={i}\")\n",
    "    for j in range(1,10):\n",
    "        print(f\"{i} * {j} = {i*j}\", end='    ')\n",
    "    print()     #預設end是換行"
   ]
  },
  {
   "cell_type": "code",
   "execution_count": 51,
   "metadata": {},
   "outputs": [
    {
     "name": "stdout",
     "output_type": "stream",
     "text": [
      "請輸入整數：10\n",
      "10的因數是： 1 2 5 10 "
     ]
    }
   ],
   "source": [
    "try:\n",
    "    x = int(input('請輸入整數,求所有因數'))\n",
    "    print(f\"請輸入整數：{x}\")\n",
    "    print(f\"{x}的因數是：\",end=' ')\n",
    "    for j in range(1,x+1):\n",
    "        if (x%j==0):\n",
    "            print(j,end=' ')\n",
    "except Exception:\n",
    "    print(\"格式錯誤\") "
   ]
  },
  {
   "cell_type": "code",
   "execution_count": 22,
   "metadata": {},
   "outputs": [
    {
     "name": "stdout",
     "output_type": "stream",
     "text": [
      "恭喜!已經存夠了,存了5個月的總存款為:50600元\n"
     ]
    }
   ],
   "source": [
    "deposit = 0\n",
    "month = 0\n",
    "while ( deposit < 30000 ) :\n",
    "    month += 1\n",
    "    money = int(input(f\"請輸入{month}月份的存款:\"))\n",
    "    deposit += money\n",
    "print(f\"恭喜!已經存夠了,存了{month}個月的總存款為:{deposit}元\")"
   ]
  }
 ],
 "metadata": {
  "kernelspec": {
   "display_name": "Python 3",
   "language": "python",
   "name": "python3"
  },
  "language_info": {
   "codemirror_mode": {
    "name": "ipython",
    "version": 3
   },
   "file_extension": ".py",
   "mimetype": "text/x-python",
   "name": "python",
   "nbconvert_exporter": "python",
   "pygments_lexer": "ipython3",
   "version": "3.10.15"
  }
 },
 "nbformat": 4,
 "nbformat_minor": 2
}
