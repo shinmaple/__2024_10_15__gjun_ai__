{
 "cells": [
  {
   "cell_type": "markdown",
   "metadata": {},
   "source": [
    "#### 文字\n",
    "- 單行文字\n",
    "- 多行文字\n",
    "- 字串插補"
   ]
  },
  {
   "cell_type": "code",
   "execution_count": 13,
   "metadata": {},
   "outputs": [
    {
     "name": "stdout",
     "output_type": "stream",
     "text": [
      "Apple Arcade 推出{test}\n",
      "也可以用雙引號 在螢幕輸出來文字\n",
      "也可以用雙引號 在螢幕輸出來文字,但如果文字裡有單引號',外面就一定要用雙引號\n",
      "也可以用單引號 在螢幕輸出來文字,但如果文字裡有雙引號\",外面就一定要用單引號\n"
     ]
    },
    {
     "data": {
      "text/plain": [
       "\"單行文字如果太長的話,在最末端可以用'反斜線'去接!測試一下!test!測試一下!test!測試一下!test!測試一下!test!測試一下!test!測試一下!test!測試一下!test!測試一下!test!測試一下!test!測試一下!test!測試一下!test!測試一下!test!測試一下!test!測試一下!test!測試一下!test!測試一下!test!測試一下!test!測試一下!test!\""
      ]
     },
     "execution_count": 13,
     "metadata": {},
     "output_type": "execute_result"
    }
   ],
   "source": [
    "#單行文字\n",
    "print('Apple Arcade 推出{test}')\n",
    "print(\"也可以用雙引號 在螢幕輸出來文字\")\n",
    "print(\"也可以用雙引號 在螢幕輸出來文字,但如果文字裡有單引號',外面就一定要用雙引號\")\n",
    "print('也可以用單引號 在螢幕輸出來文字,但如果文字裡有雙引號\",外面就一定要用單引號')\n",
    "poem = \"單行文字如果太長的話,在最末端可以用'反斜線'去接!\\\n",
    "測試一下!test!測試一下!test!測試一下!test!測試一下!test!測試一下!test!\\\n",
    "測試一下!test!測試一下!test!測試一下!test!測試一下!test!測試一下!test!測試一下!test!\\\n",
    "測試一下!test!測試一下!test!測試一下!test!測試一下!test!測試一下!test!測試一下!test!測試一下!test!\"\n",
    "poem"
   ]
  },
  {
   "cell_type": "code",
   "execution_count": 14,
   "metadata": {},
   "outputs": [
    {
     "name": "stdout",
     "output_type": "stream",
     "text": [
      "單行文字如果太長的話,在最末端可以用'反斜線'去接!測試一下!test!測試一下!test!測試一下!test!測試一下!test!測試一下!test!測試一下!test!測試一下!test!測試一下!test!測試一下!test!測試一下!test!測試一下!test!測試一下!test!測試一下!test!\n",
      "多行文字如果太長的話,'前後用三個雙引號或三個單引號'來去換行!\n",
      "測試一下!test!測試一下!test!測試一下!test!測試一下!test!測試一下!test!\n",
      "測試一下!test!測試一下!test!測試一下!test!測試一下!test!測試一下!test!測試一下!test!測試一下!test!\n"
     ]
    }
   ],
   "source": [
    "#多行文字...在文字裡面自動換行\n",
    "poem2= \"單行文字如果太長的話,在最末端可以用'反斜線'去接!測試一下!test!測試一下!test!測試一下!test!測試一下!test!測試一下!test!測試一下!test!測試一下!test!測試一下!test!測試一下!test!測試一下!test!測試一下!test!測試一下!test!測試一下!test!\"\n",
    "print(poem2) #這裡還是單行文字\n",
    "poem2= \"\"\"多行文字如果太長的話,'前後用三個雙引號或三個單引號'來去換行!\n",
    "測試一下!test!測試一下!test!測試一下!test!測試一下!test!測試一下!test!\n",
    "測試一下!test!測試一下!test!測試一下!test!測試一下!test!測試一下!test!測試一下!test!測試一下!test!\"\"\"\n",
    "print(poem2) #這裡是多行文字\n"
   ]
  },
  {
   "cell_type": "code",
   "execution_count": 4,
   "metadata": {},
   "outputs": [
    {
     "data": {
      "text/plain": [
       "'蘋果3個,香蕉5支,橘子6顆。'"
      ]
     },
     "execution_count": 4,
     "metadata": {},
     "output_type": "execute_result"
    }
   ],
   "source": [
    "#字串插補\n",
    "#字串使用+運算子\n",
    "apple = 3\n",
    "banana = 5\n",
    "orange = 6\n",
    "sentence = \"蘋果\" + str(apple) + \"個,香蕉\" + str(banana) + \"支,橘子\" + str(orange) + \"顆。\"\n",
    "sentence\n"
   ]
  },
  {
   "cell_type": "code",
   "execution_count": 5,
   "metadata": {},
   "outputs": [
    {
     "data": {
      "text/plain": [
       "'蘋果3個,香蕉5支,橘子6顆。'"
      ]
     },
     "execution_count": 5,
     "metadata": {},
     "output_type": "execute_result"
    }
   ],
   "source": [
    "#字串插補,可以用f去接,但裡面的整數要用大括號括起來\n",
    "apple = 3\n",
    "banana = 5\n",
    "orange = 6\n",
    "sentence = f\"蘋果{apple}個,香蕉{banana}支,橘子{orange}顆。\"\n",
    "sentence"
   ]
  },
  {
   "cell_type": "code",
   "execution_count": 9,
   "metadata": {},
   "outputs": [
    {
     "name": "stdout",
     "output_type": "stream",
     "text": [
      "上底:2,下底:3,高:6\n",
      "面積:15.0\n"
     ]
    },
    {
     "data": {
      "text/plain": [
       "15.0"
      ]
     },
     "execution_count": 9,
     "metadata": {},
     "output_type": "execute_result"
    }
   ],
   "source": [
    "#求梯型面積\n",
    "top = int(input(\"請輸入上底:\"))\n",
    "bottom = int(input(\"請輸入下底:\"))\n",
    "height = int(input(\"請輸入高:\"))\n",
    "\n",
    "area=(top + bottom) * height / 2\n",
    "print(f'上底:{top},下底:{bottom},高:{height}')\n",
    "print(f'面積:{area}')"
   ]
  },
  {
   "cell_type": "code",
   "execution_count": 12,
   "metadata": {},
   "outputs": [
    {
     "name": "stdout",
     "output_type": "stream",
     "text": [
      "半徑:2.0,面積＝12.5663848\n"
     ]
    }
   ],
   "source": [
    "#求圓面積\n",
    "radius = float(input(\"請輸入半徑:\"))\n",
    "pi = 3.1415962\n",
    "print(f\"半徑:{radius},面積＝{pi * radius ** 2}\") #字串插補大括號裡可以是運算式"
   ]
  },
  {
   "cell_type": "code",
   "execution_count": 13,
   "metadata": {},
   "outputs": [
    {
     "name": "stdout",
     "output_type": "stream",
     "text": [
      "半徑:5.8,面積＝105.68\n"
     ]
    }
   ],
   "source": [
    "#求圓面積\n",
    "radius = float(input(\"請輸入半徑:\"))\n",
    "pi = 3.1415962\n",
    "area = pi * radius ** 2\n",
    "print(f\"半徑:{radius},面積＝{area:.2f}\") #大括號裡變數後面加一個冒號再加一個小數點再加2f代表輸出的值顯示到小數點第2位"
   ]
  },
  {
   "cell_type": "code",
   "execution_count": 35,
   "metadata": {},
   "outputs": [
    {
     "name": "stdout",
     "output_type": "stream",
     "text": [
      "對邊是:50.0,斜邊是:120.0\n",
      "角度是:24.624318352164078\n",
      "角度是:24.6243\n",
      "角度是:24.6243\n",
      "角度是:24.6243184\n",
      "角度是:24.62432\n",
      "角度是:24.62432\n"
     ]
    }
   ],
   "source": [
    "import math     #math是pathon內建的函式庫、asin及degrees是這個函式庫的funtion、round是內建函式\n",
    "side = float(input(\"輸入對邊:\"))\n",
    "anothor_side = float(input(\"輸入斜邊:\"))\n",
    "radian = math.asin(side/anothor_side)\n",
    "degree = math.degrees(radian)\n",
    "print(f'對邊是:{side},斜邊是:{anothor_side}')\n",
    "\n",
    "print(f'角度是:{degree}')\n",
    "\n",
    "print(f'角度是:{round(degree,ndigits=4)}')\n",
    "\n",
    "print(f'角度是:{round(degree,ndigits=4):.4f}')\n",
    "\n",
    "print(f'角度是:{round(degree,ndigits=7)}')\n",
    "\n",
    "print(f'角度是:{round(degree,ndigits=7):.5f}')\n",
    "\n",
    "print(f'角度是:{round(degree,ndigits=5)}')"
   ]
  },
  {
   "cell_type": "code",
   "execution_count": 41,
   "metadata": {},
   "outputs": [
    {
     "name": "stdout",
     "output_type": "stream",
     "text": [
      "5==5這是true\n",
      "6!=6這是flase\n"
     ]
    }
   ],
   "source": [
    "#if要在第1行,後面接冒號,冒號的下一行就是true或else(flase)的程式區塊一定要縮排,通常用TAB鍵縮排\n",
    "if 5==5:\n",
    "    print(\"5==5這是true\")\n",
    "else:\n",
    "    print(\"5==5這是flase\")\n",
    "\n",
    "if 6!=6:\n",
    "    print(\"6!=6這是true\")\n",
    "else:\n",
    "    print(\"6!=6這是flase\")"
   ]
  },
  {
   "cell_type": "markdown",
   "metadata": {},
   "source": [
    "# 公斤和磅的轉換\n",
    "* 1公斤=2.20426磅\n",
    "* kilograms,pounds"
   ]
  },
  {
   "cell_type": "code",
   "execution_count": 5,
   "metadata": {},
   "outputs": [
    {
     "name": "stdout",
     "output_type": "stream",
     "text": [
      "公斤轉換為磅\n",
      "請輸入公斤:100.0\n",
      "100.0公斤 = 220.43磅\n"
     ]
    }
   ],
   "source": [
    "KILLO_TO_POUND = 2.20426\n",
    "print('公斤轉換為磅')\n",
    "kilograms = float(input(\"請輸入公斤:\"))\n",
    "pounds = kilograms * KILLO_TO_POUND\n",
    "print(f'請輸入公斤:{kilograms}')\n",
    "print(f'{kilograms}公斤 = {round(pounds , ndigits=2)}磅')"
   ]
  },
  {
   "cell_type": "code",
   "execution_count": 4,
   "metadata": {},
   "outputs": [
    {
     "name": "stdout",
     "output_type": "stream",
     "text": [
      "磅轉換為公斤\n",
      "請輸入磅:220.43\n",
      "220.43磅 = 100.0公斤\n"
     ]
    }
   ],
   "source": [
    "KILLO_TO_POUND = 2.20426\n",
    "print('磅轉換為公斤')\n",
    "pounds = float(input(\"請輸入磅:\"))\n",
    "kilograms = pounds / KILLO_TO_POUND\n",
    "print(f'請輸入磅:{pounds}')\n",
    "print(f'{pounds}磅 = {round(kilograms , ndigits=2)}公斤')"
   ]
  },
  {
   "cell_type": "code",
   "execution_count": 65,
   "metadata": {},
   "outputs": [
    {
     "name": "stdout",
     "output_type": "stream",
     "text": [
      "公斤:100.0=磅:220.43\n",
      "磅:220.43=公斤:100.00\n"
     ]
    }
   ],
   "source": [
    "kilo=float(input(\"輸入公斤:\"))\n",
    "pounds1=kilo*2.20426\n",
    "print(f\"公斤:{kilo}=磅:{pounds1:.2f}\")\n",
    "\n",
    "pounds1=float(input(\"輸入幾磅:\"))\n",
    "kilo=pounds1/2.20426\n",
    "print(f\"磅:{pounds1}=公斤:{kilo:.2f}\")"
   ]
  },
  {
   "cell_type": "code",
   "execution_count": 47,
   "metadata": {},
   "outputs": [
    {
     "name": "stdout",
     "output_type": "stream",
     "text": [
      "成年\n",
      "執行結束\n"
     ]
    }
   ],
   "source": [
    "age = int(input(\"請輸入age:\"))\n",
    "if age >= 18:\n",
    "    print(\"成年\")\n",
    "print(\"執行結束\")   #在最頂行的程式,一定會執行"
   ]
  },
  {
   "cell_type": "code",
   "execution_count": 51,
   "metadata": {},
   "outputs": [
    {
     "name": "stdout",
     "output_type": "stream",
     "text": [
      "未成年\n",
      "執行'未成年'區塊結束\n",
      "執行結束\n"
     ]
    }
   ],
   "source": [
    "age = int(input(\"請輸入age:\"))\n",
    "if age >= 18:\n",
    "    print(\"成年\")\n",
    "    print(\"執行'成年'區塊結束\")\n",
    "else:\n",
    "    print(\"未成年\")\n",
    "    print(\"執行'未成年'區塊結束\")\n",
    "print(\"執行結束\")   #在最頂行的程式,一定會執行"
   ]
  },
  {
   "cell_type": "code",
   "execution_count": 53,
   "metadata": {},
   "outputs": [
    {
     "data": {
      "text/plain": [
       "33"
      ]
     },
     "execution_count": 53,
     "metadata": {},
     "output_type": "execute_result"
    }
   ],
   "source": [
    "max([10,21,33,7])"
   ]
  },
  {
   "cell_type": "code",
   "execution_count": 54,
   "metadata": {},
   "outputs": [
    {
     "data": {
      "text/plain": [
       "7"
      ]
     },
     "execution_count": 54,
     "metadata": {},
     "output_type": "execute_result"
    }
   ],
   "source": [
    "min([10,21,33,7])"
   ]
  }
 ],
 "metadata": {
  "kernelspec": {
   "display_name": "Python 3",
   "language": "python",
   "name": "python3"
  },
  "language_info": {
   "codemirror_mode": {
    "name": "ipython",
    "version": 3
   },
   "file_extension": ".py",
   "mimetype": "text/x-python",
   "name": "python",
   "nbconvert_exporter": "python",
   "pygments_lexer": "ipython3",
   "version": "3.10.15"
  }
 },
 "nbformat": 4,
 "nbformat_minor": 2
}
