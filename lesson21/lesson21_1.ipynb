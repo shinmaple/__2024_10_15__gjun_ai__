{
 "cells": [
  {
   "cell_type": "code",
   "execution_count": 5,
   "metadata": {},
   "outputs": [
    {
     "name": "stdout",
     "output_type": "stream",
     "text": [
      "```html\n",
      "<!DOCTYPE html>\n",
      "<html lang=\"zh-TW\">\n",
      "<head>\n",
      "  <meta charset=\"UTF-8\">\n",
      "  <meta name=\"viewport\" content=\"width=device-width, initial-scale=1.0\">\n",
      "  <title>如何學習 Python</title>\n",
      "  <style>\n",
      "    body {\n",
      "      font-family: sans-serif;\n",
      "      line-height: 1.6;\n",
      "    }\n",
      "    section {\n",
      "      margin-bottom: 2em;\n",
      "    }\n",
      "    h2 {\n",
      "      color: #333;\n",
      "    }\n",
      "    ul {\n",
      "      list-style-type: disc;\n",
      "      margin-left: 20px;\n",
      "    }\n",
      "    a {\n",
      "      color: #007bff;\n",
      "      text-decoration: none;\n",
      "    }\n",
      "    a:hover {\n",
      "      text-decoration: underline;\n",
      "    }\n",
      "  </style>\n",
      "</head>\n",
      "<body>\n",
      "\n",
      "<h1>如何學習 Python</h1>\n",
      "\n",
      "<section>\n",
      "  <h2>1. 找到適合你的學習資源</h2>\n",
      "  <ul>\n",
      "    <li><strong>線上課程：</strong> Coursera, edX, Udemy, Codecademy 等平台提供許多 Python 課程，從入門到進階都有，有些課程甚至免費。</li>\n",
      "    <li><strong>線上教學影片：</strong> YouTube 上有許多 Python 教學影片，適合不同學習風格的人。</li>\n",
      "    <li><strong>書籍：</strong>  許多優秀的 Python 教學書籍，例如《Python 程式設計入門》、《流畅的 Python》等，可以提供更系統化的學習。</li>\n",
      "    <li><strong>官方文件：</strong> Python 官方文件提供了詳盡的語言參考和庫文件，適合有一定基礎後查閱。</li>\n",
      "  </ul>\n",
      "</section>\n",
      "\n",
      "<section>\n",
      "  <h2>2. 制定學習計畫</h2>\n",
      "  <ul>\n",
      "    <li><strong>設定目標：</strong> 學習 Python 的目的是什麼？網頁開發？資料分析？機器學習？明確的目標能幫助你更有動力學習。</li>\n",
      "    <li><strong>循序漸進：</strong> 不要急於求成，從基礎開始學習，逐步掌握更進階的知識。</li>\n",
      "    <li><strong>規律練習：</strong>  每天撥出時間練習程式碼，才能有效掌握 Python 的語法和邏輯。</li>\n",
      "    <li><strong>定期複習：</strong> 定期複習之前學過的知識，加深印象，避免遺忘。</li>\n",
      "  </ul>\n",
      "</section>\n",
      "\n",
      "<section>\n",
      "  <h2>3. 練習程式碼</h2>\n",
      "  <ul>\n",
      "    <li><strong>動手實作：</strong>  學習過程中，盡可能多動手練習，例如嘗試完成教學範例中的練習題，或是自己設計一些小程式。</li>\n",
      "    <li><strong>參與社群：</strong>  加入 Python 社群，與其他學習者交流，互相學習，解決問題。</li>\n",
      "    <li><strong>參與開源專案：</strong>  當你有一定的基礎後，可以嘗試參與開源專案，提升自己的程式設計能力。</li>\n",
      "    <li><strong>解決問題：</strong>  遇到問題時，不要害怕，嘗試自己解決，或者在社群尋求幫助。</li>\n",
      "  </ul>\n",
      "</section>\n",
      "\n",
      "<section>\n",
      "  <h2>4. 持之以恆</h2>\n",
      "  <ul>\n",
      "    <li>學習程式設計需要時間和耐心，不要輕易放棄。</li>\n",
      "    <li>遇到困難時，保持積極的心態，尋求幫助。</li>\n",
      "    <li>享受學習的過程，不斷提升自己的能力。</li>\n",
      "  </ul>\n",
      "</section>\n",
      "\n",
      "<p>祝你學習 Python 順利！</p>\n",
      "\n",
      "</body>\n",
      "</html>\n",
      "```\n",
      "\n"
     ]
    }
   ],
   "source": [
    "import google.generativeai as genai\n",
    "\n",
    "genai.configure(api_key=key)\n",
    "model = genai.GenerativeModel(\"gemini-1.5-flash\")\n",
    "response = model.generate_content(\"如何學習python?,回應請輸出成為html格式\")\n",
    "print(response.text)"
   ]
  },
  {
   "cell_type": "code",
   "execution_count": 6,
   "metadata": {},
   "outputs": [
    {
     "ename": "KeyError",
     "evalue": "'Gemini_API_KEY'",
     "output_type": "error",
     "traceback": [
      "\u001b[0;31m---------------------------------------------------------------------------\u001b[0m",
      "\u001b[0;31mKeyError\u001b[0m                                  Traceback (most recent call last)",
      "Cell \u001b[0;32mIn[6], line 2\u001b[0m\n\u001b[1;32m      1\u001b[0m \u001b[38;5;28;01mimport\u001b[39;00m \u001b[38;5;21;01mos\u001b[39;00m\n\u001b[0;32m----> 2\u001b[0m key \u001b[38;5;241m=\u001b[39m \u001b[43mos\u001b[49m\u001b[38;5;241;43m.\u001b[39;49m\u001b[43menviron\u001b[49m\u001b[43m[\u001b[49m\u001b[38;5;124;43m'\u001b[39;49m\u001b[38;5;124;43mGemini_API_KEY\u001b[39;49m\u001b[38;5;124;43m'\u001b[39;49m\u001b[43m]\u001b[49m\n",
      "File \u001b[0;32m/usr/local/lib/python3.10/os.py:680\u001b[0m, in \u001b[0;36m_Environ.__getitem__\u001b[0;34m(self, key)\u001b[0m\n\u001b[1;32m    677\u001b[0m     value \u001b[38;5;241m=\u001b[39m \u001b[38;5;28mself\u001b[39m\u001b[38;5;241m.\u001b[39m_data[\u001b[38;5;28mself\u001b[39m\u001b[38;5;241m.\u001b[39mencodekey(key)]\n\u001b[1;32m    678\u001b[0m \u001b[38;5;28;01mexcept\u001b[39;00m \u001b[38;5;167;01mKeyError\u001b[39;00m:\n\u001b[1;32m    679\u001b[0m     \u001b[38;5;66;03m# raise KeyError with the original key value\u001b[39;00m\n\u001b[0;32m--> 680\u001b[0m     \u001b[38;5;28;01mraise\u001b[39;00m \u001b[38;5;167;01mKeyError\u001b[39;00m(key) \u001b[38;5;28;01mfrom\u001b[39;00m \u001b[38;5;28;01mNone\u001b[39;00m\n\u001b[1;32m    681\u001b[0m \u001b[38;5;28;01mreturn\u001b[39;00m \u001b[38;5;28mself\u001b[39m\u001b[38;5;241m.\u001b[39mdecodevalue(value)\n",
      "\u001b[0;31mKeyError\u001b[0m: 'Gemini_API_KEY'"
     ]
    }
   ],
   "source": [
    "import os\n",
    "key = os.environ['Gemini_API_KEY']"
   ]
  }
 ],
 "metadata": {
  "kernelspec": {
   "display_name": "Python 3",
   "language": "python",
   "name": "python3"
  },
  "language_info": {
   "codemirror_mode": {
    "name": "ipython",
    "version": 3
   },
   "file_extension": ".py",
   "mimetype": "text/x-python",
   "name": "python",
   "nbconvert_exporter": "python",
   "pygments_lexer": "ipython3",
   "version": "3.10.15"
  }
 },
 "nbformat": 4,
 "nbformat_minor": 2
}
