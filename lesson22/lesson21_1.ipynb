{
 "cells": [
  {
   "cell_type": "code",
   "execution_count": 8,
   "metadata": {},
   "outputs": [
    {
     "name": "stdout",
     "output_type": "stream",
     "text": [
      "```html\n",
      "<!DOCTYPE html>\n",
      "<html lang=\"zh-TW\">\n",
      "<head>\n",
      "    <meta charset=\"UTF-8\">\n",
      "    <meta name=\"viewport\" content=\"width=device-width, initial-scale=1.0\">\n",
      "    <title>如何學習 Python</title>\n",
      "    <style>\n",
      "        body {\n",
      "            font-family: sans-serif;\n",
      "            line-height: 1.6;\n",
      "        }\n",
      "        h1, h2 {\n",
      "            color: #333;\n",
      "        }\n",
      "        ul {\n",
      "            list-style-type: disc;\n",
      "            margin-left: 20px;\n",
      "        }\n",
      "        a {\n",
      "            color: #007bff;\n",
      "            text-decoration: none;\n",
      "        }\n",
      "        a:hover {\n",
      "            text-decoration: underline;\n",
      "        }\n",
      "    </style>\n",
      "</head>\n",
      "<body>\n",
      "\n",
      "    <h1>如何學習 Python</h1>\n",
      "\n",
      "    <p>學習 Python 的方法有很多，關鍵在於找到適合自己的學習方式並持之以恆。以下提供一些建議：</p>\n",
      "\n",
      "    <h2>1. 選擇適合你的學習資源：</h2>\n",
      "    <ul>\n",
      "        <li><strong>線上課程：</strong> Codecademy, Coursera, edX, Udemy, freeCodeCamp 等平台提供豐富的 Python 課程，從入門到進階都有，有些課程甚至免費。</li>\n",
      "        <li><strong>書籍：</strong>  市面上有許多 Python 教學書籍，選擇適合自己程度的即可。例如，《Python 编程：从入门到实践》、《流畅的 Python》等。</li>\n",
      "        <li><strong>官方文檔：</strong> Python 的官方文檔非常全面，適合有一定基礎後查閱。</li>\n",
      "        <li><strong>YouTube 教程：</strong> YouTube 上有很多 Python 教程影片，可以選擇適合自己的風格。</li>\n",
      "    </ul>\n",
      "\n",
      "    <h2>2. 制定學習計劃：</h2>\n",
      "    <ul>\n",
      "        <li><strong>設定目標：</strong> 學習 Python 的目的是什麼？例如，網頁開發、數據分析、機器學習等等。明確目標能幫助你更有動力。</li>\n",
      "        <li><strong>循序漸進：</strong> 從基礎開始學習，不要急於求成。掌握基礎概念後再學習進階內容。</li>\n",
      "        <li><strong>定期練習：</strong>  實踐是學習編程的關鍵。完成課程或書籍中的練習題，並嘗試自己編寫程式。</li>\n",
      "        <li><strong>建立專案：</strong>  透過專案來應用所學的知識，例如，建立一個簡單的網頁、一個數據分析工具等等。</li>\n",
      "    </ul>\n",
      "\n",
      "    <h2>3. 加入社群：</h2>\n",
      "    <ul>\n",
      "        <li><strong>線上論壇：</strong> Stack Overflow, Reddit 等平台可以幫助你解決學習過程中遇到的問題。</li>\n",
      "        <li><strong>學習社群：</strong> 加入 Python 的學習社群，與其他學習者交流學習經驗。</li>\n",
      "    </ul>\n",
      "\n",
      "    <h2>4. 持之以恆：</h2>\n",
      "    <p>學習編程需要時間和耐心，不要因為遇到困難而放棄。堅持下去，你一定可以學會 Python！</p>\n",
      "\n",
      "    <h2>推薦資源連結 (僅供參考):</h2>\n",
      "    <ul>\n",
      "        <li><a href=\"https://www.codecademy.com/\">Codecademy</a></li>\n",
      "        <li><a href=\"https://www.coursera.org/\">Coursera</a></li>\n",
      "        <li><a href=\"https://www.edx.org/\">edX</a></li>\n",
      "        <li><a href=\"https://www.udemy.com/\">Udemy</a></li>\n",
      "        <li><a href=\"https://www.freecodecamp.org/\">freeCodeCamp</a></li>\n",
      "        <li><a href=\"https://docs.python.org/3/\">Python 官方文檔 (英文)</a></li>\n",
      "    </ul>\n",
      "\n",
      "\n",
      "</body>\n",
      "</html>\n",
      "```\n",
      "\n"
     ]
    }
   ],
   "source": [
    "import google.generativeai as genai\n",
    "\n",
    "genai.configure(api_key=key)\n",
    "model = genai.GenerativeModel(\"gemini-1.5-flash\")\n",
    "response = model.generate_content(\"如何學習python?,回應請輸出成為html格式\")\n",
    "print(response.text)"
   ]
  },
  {
   "cell_type": "code",
   "execution_count": null,
   "metadata": {},
   "outputs": [],
   "source": [
    "import os\n",
    "from dotenv import load_dotenv\n",
    "load_dotenv()\n",
    "key = os.environ['Gemini_API_KEY']"
   ]
  }
 ],
 "metadata": {
  "kernelspec": {
   "display_name": "Python 3",
   "language": "python",
   "name": "python3"
  },
  "language_info": {
   "codemirror_mode": {
    "name": "ipython",
    "version": 3
   },
   "file_extension": ".py",
   "mimetype": "text/x-python",
   "name": "python",
   "nbconvert_exporter": "python",
   "pygments_lexer": "ipython3",
   "version": "3.10.15"
  }
 },
 "nbformat": 4,
 "nbformat_minor": 2
}
