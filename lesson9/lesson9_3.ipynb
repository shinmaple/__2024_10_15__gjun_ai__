{
 "cells": [
  {
   "cell_type": "code",
   "execution_count": null,
   "metadata": {},
   "outputs": [],
   "source": [
    "class Person(object):   #class第一個字母用大寫(不用也行,但最好養成這個習慣) #建一個名為person的class繼承object\n",
    "    def __init__(self):         #自訂的初始化\n",
    "        self.name = \"robert\"    #建立attribute name\n",
    "        self.age = 25           #建立attribute age"
   ]
  },
  {
   "cell_type": "markdown",
   "metadata": {},
   "source": [
    "# 實體 \n",
    "- 儲存資訊(instance attribute、instance property)\n",
    "- 實體功能(instance method())"
   ]
  },
  {
   "cell_type": "code",
   "execution_count": null,
   "metadata": {},
   "outputs": [
    {
     "data": {
      "text/plain": [
       "('robert', 25)"
      ]
     },
     "execution_count": 5,
     "metadata": {},
     "output_type": "execute_result"
    }
   ],
   "source": [
    "p1:Person = Person()    #p1是一個實體,控制person    \n",
    "#type(p1)\n",
    "p1.name,p1.age"
   ]
  },
  {
   "cell_type": "code",
   "execution_count": 6,
   "metadata": {},
   "outputs": [
    {
     "data": {
      "text/plain": [
       "('robert', 25)"
      ]
     },
     "execution_count": 6,
     "metadata": {},
     "output_type": "execute_result"
    }
   ],
   "source": [
    "p2:Person = Person()    #p2是一個實體,控制person\n",
    "#type(p2)\n",
    "p2.name,p2.age"
   ]
  },
  {
   "cell_type": "code",
   "execution_count": null,
   "metadata": {},
   "outputs": [],
   "source": [
    "class Person(object):   #class第一個字母用大寫(不用也行,但最好養成這個習慣) #建一個名為person的class繼承object\n",
    "    def __init__(self,name:str,age:int):         #自訂的初始化,也有自訂的參數傳進來\n",
    "        self.name = name         #建立attribute name\n",
    "        self.age = age           #建立attribute age"
   ]
  },
  {
   "cell_type": "code",
   "execution_count": 8,
   "metadata": {},
   "outputs": [
    {
     "data": {
      "text/plain": [
       "('a', 30)"
      ]
     },
     "execution_count": 8,
     "metadata": {},
     "output_type": "execute_result"
    }
   ],
   "source": [
    "p1:Person = Person(name='a',age=30)\n",
    "p1.name,p1.age"
   ]
  },
  {
   "cell_type": "code",
   "execution_count": null,
   "metadata": {},
   "outputs": [
    {
     "data": {
      "text/plain": [
       "('a', 30)"
      ]
     },
     "execution_count": 10,
     "metadata": {},
     "output_type": "execute_result"
    }
   ],
   "source": [
    "p2:Person = Person(name='b',age=40)\n",
    "p2.name,p2.age"
   ]
  },
  {
   "cell_type": "code",
   "execution_count": 11,
   "metadata": {},
   "outputs": [],
   "source": [
    "class Person(object):   #class第一個字母用大寫(不用也行,但最好養成這個習慣) #建一個名為person的class繼承object\n",
    "    def __init__(self,name:str,age:int):         #自訂的初始化,也有自訂的參數傳進來\n",
    "        self.name = name         #建立attribute name\n",
    "        self.age = age   \n",
    "    \n",
    "    def echo(self):             #自訂的實體方法\n",
    "        print(f\"我的名字是{self.name}\")\n",
    "        print(f\"我的名字是{self.age}\")"
   ]
  },
  {
   "cell_type": "code",
   "execution_count": null,
   "metadata": {},
   "outputs": [
    {
     "name": "stdout",
     "output_type": "stream",
     "text": [
      "我的名字是a\n",
      "我的名字是30\n"
     ]
    }
   ],
   "source": [
    "p1:Person = Person(name='a',age=30) \n",
    "p1.echo()                               #實體方法"
   ]
  },
  {
   "cell_type": "code",
   "execution_count": 14,
   "metadata": {},
   "outputs": [
    {
     "name": "stdout",
     "output_type": "stream",
     "text": [
      "我的名字是b\n",
      "我的名字是40\n"
     ]
    }
   ],
   "source": [
    "p2:Person = Person(name='b',age=40)\n",
    "p2.echo()   "
   ]
  }
 ],
 "metadata": {
  "kernelspec": {
   "display_name": "Python 3",
   "language": "python",
   "name": "python3"
  },
  "language_info": {
   "codemirror_mode": {
    "name": "ipython",
    "version": 3
   },
   "file_extension": ".py",
   "mimetype": "text/x-python",
   "name": "python",
   "nbconvert_exporter": "python",
   "pygments_lexer": "ipython3",
   "version": "3.10.15"
  }
 },
 "nbformat": 4,
 "nbformat_minor": 2
}
