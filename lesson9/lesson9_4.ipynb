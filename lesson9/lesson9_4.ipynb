{
 "cells": [
  {
   "cell_type": "code",
   "execution_count": null,
   "metadata": {},
   "outputs": [],
   "source": [
    "class Person(object):   #class第一個字母用大寫(不用也行,但最好養成這個習慣) #建一個名為person的class繼承object\n",
    "    def __init__(self,name:str,age:int):         #自訂的初始化,也有自訂的參數傳進來\n",
    "        self.name = name         #建立attribute name\n",
    "        self.age = age   \n",
    "    \n",
    "    def echo(self):             #自訂的實體方法\n",
    "        print(f\"我的名字是{self.name}\")\n",
    "        print(f\"我的名字是{self.age}\")\n"
   ]
  },
  {
   "cell_type": "code",
   "execution_count": 2,
   "metadata": {},
   "outputs": [
    {
     "name": "stdout",
     "output_type": "stream",
     "text": [
      "我的名字是test_name1\n",
      "我的名字是11\n"
     ]
    }
   ],
   "source": [
    "s1:student = student(name='test_name1',age=11)\n",
    "s1.echo()"
   ]
  },
  {
   "cell_type": "code",
   "execution_count": 3,
   "metadata": {},
   "outputs": [
    {
     "name": "stdout",
     "output_type": "stream",
     "text": [
      "我的名字是test_name2\n",
      "我的名字是88\n"
     ]
    }
   ],
   "source": [
    "s2:student = student(name='test_name2',age=88)\n",
    "s2.echo()"
   ]
  },
  {
   "cell_type": "code",
   "execution_count": 6,
   "metadata": {},
   "outputs": [],
   "source": [
    "class Person(object):   #class第一個字母用大寫(不用也行,但最好養成這個習慣) #建一個名為person的class繼承object\n",
    "    def __init__(self,name:str,age:int):         #自訂的初始化,也有自訂的參數傳進來\n",
    "        self.name = name         #建立attribute name\n",
    "        self.age = age   \n",
    "    \n",
    "    def echo(self):             #自訂的實體方法\n",
    "        print(f\"我的名字是{self.name}\")\n",
    "        print(f\"我的名字是{self.age}\")\n",
    "\n",
    "class student(Person):      #student繼承了Person所有的功能   s1:student裡有name跟age(因為執行了super)\n",
    "    def __init__(self,name:str,age:int,score:int):\n",
    "        super().__init__(name=name,age=age)\n",
    "        self.score = score"
   ]
  },
  {
   "cell_type": "code",
   "execution_count": 7,
   "metadata": {},
   "outputs": [
    {
     "name": "stdout",
     "output_type": "stream",
     "text": [
      "我的名字是test_name1\n",
      "我的名字是11\n"
     ]
    }
   ],
   "source": [
    "s1:student = student(name='test_name1',age=11,score=77)\n",
    "s1.echo()"
   ]
  },
  {
   "cell_type": "code",
   "execution_count": 11,
   "metadata": {},
   "outputs": [],
   "source": [
    "class Person(object):   #class第一個字母用大寫(不用也行,但最好養成這個習慣) #建一個名為person的class繼承object\n",
    "    def __init__(self,name:str,age:int):         #自訂的初始化,也有自訂的參數傳進來\n",
    "        self.name = name         #建立attribute name\n",
    "        self.age = age   \n",
    "    \n",
    "    def echo(self):             #自訂的實體方法\n",
    "        print(f\"我的名字是{self.name}\")\n",
    "        print(f\"我的年紀是{self.age}\")\n",
    "\n",
    "class Student(Person):      #student繼承了Person所有的功能   s1:student裡有name跟age(因為執行了super)\n",
    "    def __init__(self,name:str,age:int,score:int):\n",
    "        super().__init__(name=name,age=age)\n",
    "        self.score = score\n",
    "    \n",
    "    def echo(self):\n",
    "        super().echo()      #先執行父類別\n",
    "        print(f\"我的分數是{self.score}\")\n"
   ]
  },
  {
   "cell_type": "code",
   "execution_count": 12,
   "metadata": {},
   "outputs": [
    {
     "name": "stdout",
     "output_type": "stream",
     "text": [
      "我的名字是test_name1\n",
      "我的年紀是11\n",
      "我的分數是77\n"
     ]
    }
   ],
   "source": [
    "s1:student = Student(name='test_name1',age=11,score=77)\n",
    "s1.echo()"
   ]
  },
  {
   "cell_type": "code",
   "execution_count": 13,
   "metadata": {},
   "outputs": [
    {
     "name": "stdout",
     "output_type": "stream",
     "text": [
      "我的名字是test_name1\n",
      "我的年紀是11\n",
      "我的分數是77\n",
      "=============\n",
      "我的名字是test_name2\n",
      "我的名字是88\n",
      "=============\n"
     ]
    }
   ],
   "source": [
    "students:list[Student] = [s1,s2]\n",
    "for student in students:\n",
    "    student.echo()\n",
    "    print(\"=============\")"
   ]
  }
 ],
 "metadata": {
  "kernelspec": {
   "display_name": "Python 3",
   "language": "python",
   "name": "python3"
  },
  "language_info": {
   "codemirror_mode": {
    "name": "ipython",
    "version": 3
   },
   "file_extension": ".py",
   "mimetype": "text/x-python",
   "name": "python",
   "nbconvert_exporter": "python",
   "pygments_lexer": "ipython3",
   "version": "3.10.15"
  }
 },
 "nbformat": 4,
 "nbformat_minor": 2
}
